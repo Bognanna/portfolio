{
 "cells": [
  {
   "cell_type": "markdown",
   "metadata": {},
   "source": [
    "# NumPy tutorial\n",
    "\n",
    "[Numerical Python](https://numpy.org) is one of the most fundamental tools in each data miner's toolbox. It is impossible to do serious data pre-processing and transformation without the understanding of `NumPy` and its most commonly used methods. The goal of this tutorial is to familiarize students with this awesome library."
   ]
  },
  {
   "cell_type": "markdown",
   "metadata": {},
   "source": [
    "## Introduction\n",
    "\n",
    "99% of `NumPy` is one data structure and operations on that structure. `NumPy` stores everything in multidimensional arrays and vectorizes all operations on these arrays. For a motivating example, let's compare the speed of computing an average of 10 mln of random numbers stored in a list vs an array"
   ]
  },
  {
   "cell_type": "code",
   "execution_count": 128,
   "metadata": {
    "ExecuteTime": {
     "end_time": "2021-03-04T13:09:30.997021Z",
     "start_time": "2021-03-04T13:09:30.231420Z"
    }
   },
   "outputs": [],
   "source": [
    "import numpy as np\n",
    "from numpy.random import randint\n",
    "\n",
    "randoms = randint(low=0, high=1000, size=100000000)\n",
    "lst = list(randoms)"
   ]
  },
  {
   "cell_type": "code",
   "execution_count": 129,
   "metadata": {
    "ExecuteTime": {
     "end_time": "2021-03-04T13:09:55.762564Z",
     "start_time": "2021-03-04T13:09:55.717269Z"
    }
   },
   "outputs": [
    {
     "data": {
      "text/plain": [
       "100000000"
      ]
     },
     "execution_count": 129,
     "metadata": {},
     "output_type": "execute_result"
    }
   ],
   "source": [
    "len(lst)"
   ]
  },
  {
   "cell_type": "code",
   "execution_count": 130,
   "metadata": {
    "ExecuteTime": {
     "end_time": "2021-03-04T12:49:38.689313Z",
     "start_time": "2021-03-04T12:49:36.690067Z"
    }
   },
   "outputs": [
    {
     "name": "stderr",
     "output_type": "stream",
     "text": [
      "<timed exec>:4: RuntimeWarning: overflow encountered in scalar add\n"
     ]
    },
    {
     "name": "stdout",
     "output_type": "stream",
     "text": [
      "Average = -15.87135035\n",
      "CPU times: total: 26.2 s\n",
      "Wall time: 26.6 s\n"
     ]
    }
   ],
   "source": [
    "%%time\n",
    "\n",
    "# old-school iteration\n",
    "summ = 0\n",
    "for i in range(len(lst)):\n",
    "    summ += lst[i]\n",
    "    \n",
    "print(f'Average = {summ/len(lst)}')"
   ]
  },
  {
   "cell_type": "code",
   "execution_count": 131,
   "metadata": {
    "ExecuteTime": {
     "end_time": "2021-03-04T12:49:56.610164Z",
     "start_time": "2021-03-04T12:49:55.653897Z"
    }
   },
   "outputs": [
    {
     "name": "stdout",
     "output_type": "stream",
     "text": [
      "Average = -15.87135035\n",
      "CPU times: total: 6.94 s\n",
      "Wall time: 7.1 s\n"
     ]
    },
    {
     "name": "stderr",
     "output_type": "stream",
     "text": [
      "<timed eval>:2: RuntimeWarning: overflow encountered in scalar add\n"
     ]
    }
   ],
   "source": [
    "%%time\n",
    "\n",
    "# using built-ins sum() and len()\n",
    "print(f'Average = {sum(lst)/len(lst)}')"
   ]
  },
  {
   "cell_type": "code",
   "execution_count": 132,
   "metadata": {
    "ExecuteTime": {
     "end_time": "2021-03-04T12:50:24.702116Z",
     "start_time": "2021-03-04T12:50:24.675694Z"
    }
   },
   "outputs": [
    {
     "name": "stdout",
     "output_type": "stream",
     "text": [
      "Average = 499.52472517\n",
      "CPU times: total: 188 ms\n",
      "Wall time: 190 ms\n"
     ]
    }
   ],
   "source": [
    "%%time\n",
    "\n",
    "# using NumPy\n",
    "print(f'Average = {np.mean(randoms)}')"
   ]
  },
  {
   "cell_type": "markdown",
   "metadata": {},
   "source": [
    "There are only two rules regarding `NumPy` arrays:\n",
    "- every element must be of the same type and size\n",
    "- if an array has arrays, they must match as well\n",
    "\n",
    "Let's see how to create an array and what happens when we start messing with the types and sizes of objects"
   ]
  },
  {
   "cell_type": "code",
   "execution_count": 133,
   "metadata": {
    "ExecuteTime": {
     "end_time": "2021-03-04T12:51:56.301681Z",
     "start_time": "2021-03-04T12:51:56.283329Z"
    }
   },
   "outputs": [
    {
     "name": "stdout",
     "output_type": "stream",
     "text": [
      "Shape (sizes of dimensions): (5,)\n",
      "Number of dimensions: 1\n",
      "Length (number of elements): 5\n",
      "Size (number of nested elements): 5\n",
      "Type : <class 'numpy.ndarray'>\n",
      "Data type (type of array elements): int16\n"
     ]
    }
   ],
   "source": [
    "a = np.array([1, 2, 3, 4, 5], dtype=np.int16)\n",
    "\n",
    "print(f'Shape (sizes of dimensions): {a.shape}')\n",
    "print(f'Number of dimensions: {a.ndim}')\n",
    "print(f'Length (number of elements): {len(a)}')\n",
    "print(f'Size (number of nested elements): {a.size}')\n",
    "print(f'Type : {type(a)}')\n",
    "print(f'Data type (type of array elements): {a.dtype}')"
   ]
  },
  {
   "cell_type": "markdown",
   "metadata": {},
   "source": [
    "Now let's see how the same descriptors can be applied to a two-dimensional array"
   ]
  },
  {
   "cell_type": "code",
   "execution_count": 134,
   "metadata": {
    "ExecuteTime": {
     "end_time": "2021-03-04T12:55:13.741515Z",
     "start_time": "2021-03-04T12:55:13.728336Z"
    }
   },
   "outputs": [
    {
     "name": "stdout",
     "output_type": "stream",
     "text": [
      "Shape (sizes of dimensions): (2, 5)\n",
      "Number of dimensions: 2\n",
      "Length (number of elements): 2\n",
      "Size (number of nested elements): 10\n",
      "Type : <class 'numpy.ndarray'>\n",
      "Data type (type of array elements): int16\n"
     ]
    }
   ],
   "source": [
    "a = np.array([\n",
    "    [1, 2, 3, 4, 5],\n",
    "    [1, 4, 9, 16, 25]\n",
    "], dtype=np.int16)\n",
    "\n",
    "print(f'Shape (sizes of dimensions): {a.shape}')\n",
    "print(f'Number of dimensions: {a.ndim}')\n",
    "print(f'Length (number of elements): {len(a)}')\n",
    "print(f'Size (number of nested elements): {a.size}')\n",
    "print(f'Type : {type(a)}')\n",
    "print(f'Data type (type of array elements): {a.dtype}')"
   ]
  },
  {
   "cell_type": "markdown",
   "metadata": {},
   "source": [
    "Array elements should be of the same type. Let's see what happens if we mix two types."
   ]
  },
  {
   "cell_type": "code",
   "execution_count": 135,
   "metadata": {
    "ExecuteTime": {
     "end_time": "2021-03-04T12:56:18.484257Z",
     "start_time": "2021-03-04T12:56:18.473013Z"
    }
   },
   "outputs": [
    {
     "data": {
      "text/plain": [
       "array(['1', '2', 'mary', 'had', '2', 'lambs', 'True'], dtype='<U11')"
      ]
     },
     "execution_count": 135,
     "metadata": {},
     "output_type": "execute_result"
    }
   ],
   "source": [
    "a = np.array([1, 2, 'mary', 'had', 2, 'lambs', True])\n",
    "\n",
    "a"
   ]
  },
  {
   "cell_type": "code",
   "execution_count": 136,
   "metadata": {
    "ExecuteTime": {
     "end_time": "2021-03-04T12:57:03.692524Z",
     "start_time": "2021-03-04T12:57:03.673507Z"
    }
   },
   "outputs": [
    {
     "data": {
      "text/plain": [
       "dtype('<U11')"
      ]
     },
     "execution_count": 136,
     "metadata": {},
     "output_type": "execute_result"
    }
   ],
   "source": [
    "a.dtype"
   ]
  },
  {
   "cell_type": "markdown",
   "metadata": {},
   "source": [
    "We can also try to modify the length of array's elements"
   ]
  },
  {
   "cell_type": "code",
   "execution_count": 137,
   "metadata": {
    "ExecuteTime": {
     "end_time": "2021-03-04T12:57:53.328704Z",
     "start_time": "2021-03-04T12:57:53.322752Z"
    }
   },
   "outputs": [],
   "source": [
    "a = np.array(['mary', 'had', 'a', 'little', 'lamb'])"
   ]
  },
  {
   "cell_type": "code",
   "execution_count": 138,
   "metadata": {},
   "outputs": [
    {
     "data": {
      "text/plain": [
       "(dtype('<U6'), array(['mary', 'had', 'a', 'little', 'lamb'], dtype='<U6'))"
      ]
     },
     "execution_count": 138,
     "metadata": {},
     "output_type": "execute_result"
    }
   ],
   "source": [
    "a.dtype, a"
   ]
  },
  {
   "cell_type": "code",
   "execution_count": 139,
   "metadata": {
    "ExecuteTime": {
     "end_time": "2021-03-04T12:58:21.535252Z",
     "start_time": "2021-03-04T12:58:21.524891Z"
    }
   },
   "outputs": [
    {
     "name": "stdout",
     "output_type": "stream",
     "text": [
      "['mary' 'had' 'a' 'little' 'and ve']\n"
     ]
    }
   ],
   "source": [
    "a[4] = 'and very very very very long snake'\n",
    "\n",
    "print(a)"
   ]
  },
  {
   "cell_type": "markdown",
   "metadata": {},
   "source": [
    "After an array has been created, it can be reshaped to whatever shape one desires. A special function is provided for transposing an array (changing rows into columns and vice versa)"
   ]
  },
  {
   "cell_type": "code",
   "execution_count": 140,
   "metadata": {
    "ExecuteTime": {
     "end_time": "2021-03-04T13:00:28.784164Z",
     "start_time": "2021-03-04T13:00:28.778418Z"
    }
   },
   "outputs": [],
   "source": [
    "a = np.array([0,1,2,3,4,5,6,7,8,9,10,11])"
   ]
  },
  {
   "cell_type": "code",
   "execution_count": 141,
   "metadata": {},
   "outputs": [
    {
     "data": {
      "text/plain": [
       "(12,)"
      ]
     },
     "execution_count": 141,
     "metadata": {},
     "output_type": "execute_result"
    }
   ],
   "source": [
    "a.shape"
   ]
  },
  {
   "cell_type": "code",
   "execution_count": 142,
   "metadata": {
    "ExecuteTime": {
     "end_time": "2021-03-04T13:00:28.784164Z",
     "start_time": "2021-03-04T13:00:28.778418Z"
    }
   },
   "outputs": [
    {
     "data": {
      "text/plain": [
       "array([[ 0,  1,  2,  3,  4,  5,  6,  7,  8,  9, 10, 11]])"
      ]
     },
     "execution_count": 142,
     "metadata": {},
     "output_type": "execute_result"
    }
   ],
   "source": [
    "a.shape = (1, 12)\n",
    "a"
   ]
  },
  {
   "cell_type": "code",
   "execution_count": 143,
   "metadata": {},
   "outputs": [
    {
     "name": "stdout",
     "output_type": "stream",
     "text": [
      "\u001b[1;31mSignature:\u001b[0m       \u001b[0mnp\u001b[0m\u001b[1;33m.\u001b[0m\u001b[0mreshape\u001b[0m\u001b[1;33m(\u001b[0m\u001b[0ma\u001b[0m\u001b[1;33m,\u001b[0m \u001b[0mnewshape\u001b[0m\u001b[1;33m,\u001b[0m \u001b[0morder\u001b[0m\u001b[1;33m=\u001b[0m\u001b[1;34m'C'\u001b[0m\u001b[1;33m)\u001b[0m\u001b[1;33m\u001b[0m\u001b[1;33m\u001b[0m\u001b[0m\n",
      "\u001b[1;31mCall signature:\u001b[0m  \u001b[0mnp\u001b[0m\u001b[1;33m.\u001b[0m\u001b[0mreshape\u001b[0m\u001b[1;33m(\u001b[0m\u001b[1;33m*\u001b[0m\u001b[0margs\u001b[0m\u001b[1;33m,\u001b[0m \u001b[1;33m**\u001b[0m\u001b[0mkwargs\u001b[0m\u001b[1;33m)\u001b[0m\u001b[1;33m\u001b[0m\u001b[1;33m\u001b[0m\u001b[0m\n",
      "\u001b[1;31mType:\u001b[0m            _ArrayFunctionDispatcher\n",
      "\u001b[1;31mString form:\u001b[0m     <function reshape at 0x000001AD55FBD800>\n",
      "\u001b[1;31mFile:\u001b[0m            c:\\users\\user\\appdata\\local\\programs\\python\\python312\\lib\\site-packages\\numpy\\core\\fromnumeric.py\n",
      "\u001b[1;31mSource:\u001b[0m         \n",
      "\u001b[1;33m@\u001b[0m\u001b[0marray_function_dispatch\u001b[0m\u001b[1;33m(\u001b[0m\u001b[0m_reshape_dispatcher\u001b[0m\u001b[1;33m)\u001b[0m\u001b[1;33m\n",
      "\u001b[0m\u001b[1;32mdef\u001b[0m \u001b[0mreshape\u001b[0m\u001b[1;33m(\u001b[0m\u001b[0ma\u001b[0m\u001b[1;33m,\u001b[0m \u001b[0mnewshape\u001b[0m\u001b[1;33m,\u001b[0m \u001b[0morder\u001b[0m\u001b[1;33m=\u001b[0m\u001b[1;34m'C'\u001b[0m\u001b[1;33m)\u001b[0m\u001b[1;33m:\u001b[0m\u001b[1;33m\n",
      "\u001b[0m    \u001b[1;34m\"\"\"\n",
      "    Gives a new shape to an array without changing its data.\n",
      "\n",
      "    Parameters\n",
      "    ----------\n",
      "    a : array_like\n",
      "        Array to be reshaped.\n",
      "    newshape : int or tuple of ints\n",
      "        The new shape should be compatible with the original shape. If\n",
      "        an integer, then the result will be a 1-D array of that length.\n",
      "        One shape dimension can be -1. In this case, the value is\n",
      "        inferred from the length of the array and remaining dimensions.\n",
      "    order : {'C', 'F', 'A'}, optional\n",
      "        Read the elements of `a` using this index order, and place the\n",
      "        elements into the reshaped array using this index order.  'C'\n",
      "        means to read / write the elements using C-like index order,\n",
      "        with the last axis index changing fastest, back to the first\n",
      "        axis index changing slowest. 'F' means to read / write the\n",
      "        elements using Fortran-like index order, with the first index\n",
      "        changing fastest, and the last index changing slowest. Note that\n",
      "        the 'C' and 'F' options take no account of the memory layout of\n",
      "        the underlying array, and only refer to the order of indexing.\n",
      "        'A' means to read / write the elements in Fortran-like index\n",
      "        order if `a` is Fortran *contiguous* in memory, C-like order\n",
      "        otherwise.\n",
      "\n",
      "    Returns\n",
      "    -------\n",
      "    reshaped_array : ndarray\n",
      "        This will be a new view object if possible; otherwise, it will\n",
      "        be a copy.  Note there is no guarantee of the *memory layout* (C- or\n",
      "        Fortran- contiguous) of the returned array.\n",
      "\n",
      "    See Also\n",
      "    --------\n",
      "    ndarray.reshape : Equivalent method.\n",
      "\n",
      "    Notes\n",
      "    -----\n",
      "    It is not always possible to change the shape of an array without copying\n",
      "    the data.\n",
      "    \n",
      "    The `order` keyword gives the index ordering both for *fetching* the values\n",
      "    from `a`, and then *placing* the values into the output array.\n",
      "    For example, let's say you have an array:\n",
      "\n",
      "    >>> a = np.arange(6).reshape((3, 2))\n",
      "    >>> a\n",
      "    array([[0, 1],\n",
      "           [2, 3],\n",
      "           [4, 5]])\n",
      "\n",
      "    You can think of reshaping as first raveling the array (using the given\n",
      "    index order), then inserting the elements from the raveled array into the\n",
      "    new array using the same kind of index ordering as was used for the\n",
      "    raveling.\n",
      "\n",
      "    >>> np.reshape(a, (2, 3)) # C-like index ordering\n",
      "    array([[0, 1, 2],\n",
      "           [3, 4, 5]])\n",
      "    >>> np.reshape(np.ravel(a), (2, 3)) # equivalent to C ravel then C reshape\n",
      "    array([[0, 1, 2],\n",
      "           [3, 4, 5]])\n",
      "    >>> np.reshape(a, (2, 3), order='F') # Fortran-like index ordering\n",
      "    array([[0, 4, 3],\n",
      "           [2, 1, 5]])\n",
      "    >>> np.reshape(np.ravel(a, order='F'), (2, 3), order='F')\n",
      "    array([[0, 4, 3],\n",
      "           [2, 1, 5]])\n",
      "\n",
      "    Examples\n",
      "    --------\n",
      "    >>> a = np.array([[1,2,3], [4,5,6]])\n",
      "    >>> np.reshape(a, 6)\n",
      "    array([1, 2, 3, 4, 5, 6])\n",
      "    >>> np.reshape(a, 6, order='F')\n",
      "    array([1, 4, 2, 5, 3, 6])\n",
      "\n",
      "    >>> np.reshape(a, (3,-1))       # the unspecified value is inferred to be 2\n",
      "    array([[1, 2],\n",
      "           [3, 4],\n",
      "           [5, 6]])\n",
      "    \"\"\"\u001b[0m\u001b[1;33m\n",
      "\u001b[0m    \u001b[1;32mreturn\u001b[0m \u001b[0m_wrapfunc\u001b[0m\u001b[1;33m(\u001b[0m\u001b[0ma\u001b[0m\u001b[1;33m,\u001b[0m \u001b[1;34m'reshape'\u001b[0m\u001b[1;33m,\u001b[0m \u001b[0mnewshape\u001b[0m\u001b[1;33m,\u001b[0m \u001b[0morder\u001b[0m\u001b[1;33m=\u001b[0m\u001b[0morder\u001b[0m\u001b[1;33m)\u001b[0m\u001b[1;33m\u001b[0m\u001b[1;33m\u001b[0m\u001b[0m\n",
      "\u001b[1;31mClass docstring:\u001b[0m\n",
      "Class to wrap functions with checks for __array_function__ overrides.\n",
      "\n",
      "All arguments are required, and can only be passed by position.\n",
      "\n",
      "Parameters\n",
      "----------\n",
      "dispatcher : function or None\n",
      "    The dispatcher function that returns a single sequence-like object\n",
      "    of all arguments relevant.  It must have the same signature (except\n",
      "    the default values) as the actual implementation.\n",
      "    If ``None``, this is a ``like=`` dispatcher and the\n",
      "    ``_ArrayFunctionDispatcher`` must be called with ``like`` as the\n",
      "    first (additional and positional) argument.\n",
      "implementation : function\n",
      "    Function that implements the operation on NumPy arrays without\n",
      "    overrides.  Arguments passed calling the ``_ArrayFunctionDispatcher``\n",
      "    will be forwarded to this (and the ``dispatcher``) as if using\n",
      "    ``*args, **kwargs``.\n",
      "\n",
      "Attributes\n",
      "----------\n",
      "_implementation : function\n",
      "    The original implementation passed in."
     ]
    }
   ],
   "source": [
    "??np.reshape"
   ]
  },
  {
   "cell_type": "code",
   "execution_count": 144,
   "metadata": {
    "ExecuteTime": {
     "end_time": "2021-03-04T13:02:28.005978Z",
     "start_time": "2021-03-04T13:02:27.996818Z"
    }
   },
   "outputs": [
    {
     "data": {
      "text/plain": [
       "array([[ 0,  1,  2,  3],\n",
       "       [ 4,  5,  6,  7],\n",
       "       [ 8,  9, 10, 11]])"
      ]
     },
     "execution_count": 144,
     "metadata": {},
     "output_type": "execute_result"
    }
   ],
   "source": [
    "a = a.reshape(3, 4)\n",
    "\n",
    "a"
   ]
  },
  {
   "cell_type": "code",
   "execution_count": 145,
   "metadata": {
    "ExecuteTime": {
     "start_time": "2021-03-04T13:03:51.936Z"
    }
   },
   "outputs": [
    {
     "data": {
      "text/plain": [
       "array([[ 0,  4,  8],\n",
       "       [ 1,  5,  9],\n",
       "       [ 2,  6, 10],\n",
       "       [ 3,  7, 11]])"
      ]
     },
     "execution_count": 145,
     "metadata": {},
     "output_type": "execute_result"
    }
   ],
   "source": [
    "# transposition of an arary\n",
    "\n",
    "a.T"
   ]
  },
  {
   "cell_type": "markdown",
   "metadata": {},
   "source": [
    "## Creating arrays\n",
    "\n",
    "The easiest way to create a 1-d array is to use a list. If you want a 2-d array, you use a list of lists. 3-d arrays are created using a list of lists of lists. You get the gist."
   ]
  },
  {
   "cell_type": "code",
   "execution_count": 146,
   "metadata": {
    "ExecuteTime": {
     "end_time": "2021-03-04T13:10:43.986631Z",
     "start_time": "2021-03-04T13:10:43.703190Z"
    }
   },
   "outputs": [],
   "source": [
    "a_1d = np.array([1, 2, 3, 4])\n",
    "\n",
    "a_2d = np.array([\n",
    "    [1, 2, 3, 4],\n",
    "    [1, 4, 9, 16],\n",
    "    [1, 8, 27, 64]\n",
    "])\n",
    "\n",
    "a_3d = np.array([\n",
    "    [\n",
    "        [0, 0],\n",
    "        [0, 1],\n",
    "    ],\n",
    "    [\n",
    "        [1, 0],\n",
    "        [1, 1],\n",
    "    ],\n",
    "])"
   ]
  },
  {
   "cell_type": "code",
   "execution_count": 147,
   "metadata": {},
   "outputs": [
    {
     "data": {
      "text/plain": [
       "array([[ 1,  2,  3,  4],\n",
       "       [ 1,  4,  9, 16],\n",
       "       [ 1,  8, 27, 64]])"
      ]
     },
     "execution_count": 147,
     "metadata": {},
     "output_type": "execute_result"
    }
   ],
   "source": [
    "a_2d"
   ]
  },
  {
   "cell_type": "markdown",
   "metadata": {},
   "source": [
    "There are utility functions in the `np` module for creating popular types of arrays:\n",
    "- an array filled with zeros\n",
    "- an array filled with ones\n",
    "- an array filled with any value\n",
    "- an array of consecutive (or stepped) values\n",
    "- an array filled with random values\n",
    "- a diagonal array"
   ]
  },
  {
   "cell_type": "code",
   "execution_count": 148,
   "metadata": {
    "ExecuteTime": {
     "end_time": "2021-03-04T13:11:23.604189Z",
     "start_time": "2021-03-04T13:11:23.595746Z"
    }
   },
   "outputs": [
    {
     "data": {
      "text/plain": [
       "array([[0., 0., 0.],\n",
       "       [0., 0., 0.],\n",
       "       [0., 0., 0.]])"
      ]
     },
     "execution_count": 148,
     "metadata": {},
     "output_type": "execute_result"
    }
   ],
   "source": [
    "np.zeros(shape=(3,3))"
   ]
  },
  {
   "cell_type": "code",
   "execution_count": 149,
   "metadata": {
    "ExecuteTime": {
     "end_time": "2021-03-03T23:53:47.705059Z",
     "start_time": "2021-03-03T23:53:47.701794Z"
    }
   },
   "outputs": [
    {
     "data": {
      "text/plain": [
       "array([[0., 0., 0., 0., 0.],\n",
       "       [0., 0., 0., 0., 0.],\n",
       "       [0., 0., 0., 0., 0.]])"
      ]
     },
     "execution_count": 149,
     "metadata": {},
     "output_type": "execute_result"
    }
   ],
   "source": [
    "np.zeros(shape=(3,5))"
   ]
  },
  {
   "cell_type": "code",
   "execution_count": 150,
   "metadata": {
    "ExecuteTime": {
     "end_time": "2021-03-04T13:11:45.001157Z",
     "start_time": "2021-03-04T13:11:44.993958Z"
    }
   },
   "outputs": [
    {
     "data": {
      "text/plain": [
       "array([[[1, 1, 1],\n",
       "        [1, 1, 1]],\n",
       "\n",
       "       [[1, 1, 1],\n",
       "        [1, 1, 1]],\n",
       "\n",
       "       [[1, 1, 1],\n",
       "        [1, 1, 1]]], dtype=int16)"
      ]
     },
     "execution_count": 150,
     "metadata": {},
     "output_type": "execute_result"
    }
   ],
   "source": [
    "np.ones((3,2,3), dtype=np.int16)"
   ]
  },
  {
   "cell_type": "code",
   "execution_count": 151,
   "metadata": {
    "ExecuteTime": {
     "end_time": "2021-03-04T13:12:26.368482Z",
     "start_time": "2021-03-04T13:12:26.361206Z"
    }
   },
   "outputs": [
    {
     "data": {
      "text/plain": [
       "array([['mary had a little lamb', 'mary had a little lamb'],\n",
       "       ['mary had a little lamb', 'mary had a little lamb'],\n",
       "       ['mary had a little lamb', 'mary had a little lamb'],\n",
       "       ['mary had a little lamb', 'mary had a little lamb']], dtype='<U22')"
      ]
     },
     "execution_count": 151,
     "metadata": {},
     "output_type": "execute_result"
    }
   ],
   "source": [
    "np.full(shape=(4,2), fill_value='mary had a little lamb')"
   ]
  },
  {
   "cell_type": "code",
   "execution_count": 152,
   "metadata": {
    "ExecuteTime": {
     "end_time": "2021-03-04T13:12:46.553556Z",
     "start_time": "2021-03-04T13:12:46.538365Z"
    }
   },
   "outputs": [
    {
     "name": "stdout",
     "output_type": "stream",
     "text": [
      "\u001b[1;31mDocstring:\u001b[0m\n",
      "arange([start,] stop[, step,], dtype=None, *, like=None)\n",
      "\n",
      "Return evenly spaced values within a given interval.\n",
      "\n",
      "``arange`` can be called with a varying number of positional arguments:\n",
      "\n",
      "* ``arange(stop)``: Values are generated within the half-open interval\n",
      "  ``[0, stop)`` (in other words, the interval including `start` but\n",
      "  excluding `stop`).\n",
      "* ``arange(start, stop)``: Values are generated within the half-open\n",
      "  interval ``[start, stop)``.\n",
      "* ``arange(start, stop, step)`` Values are generated within the half-open\n",
      "  interval ``[start, stop)``, with spacing between values given by\n",
      "  ``step``.\n",
      "\n",
      "For integer arguments the function is roughly equivalent to the Python\n",
      "built-in :py:class:`range`, but returns an ndarray rather than a ``range``\n",
      "instance.\n",
      "\n",
      "When using a non-integer step, such as 0.1, it is often better to use\n",
      "`numpy.linspace`.\n",
      "\n",
      "See the Warning sections below for more information.\n",
      "\n",
      "Parameters\n",
      "----------\n",
      "start : integer or real, optional\n",
      "    Start of interval.  The interval includes this value.  The default\n",
      "    start value is 0.\n",
      "stop : integer or real\n",
      "    End of interval.  The interval does not include this value, except\n",
      "    in some cases where `step` is not an integer and floating point\n",
      "    round-off affects the length of `out`.\n",
      "step : integer or real, optional\n",
      "    Spacing between values.  For any output `out`, this is the distance\n",
      "    between two adjacent values, ``out[i+1] - out[i]``.  The default\n",
      "    step size is 1.  If `step` is specified as a position argument,\n",
      "    `start` must also be given.\n",
      "dtype : dtype, optional\n",
      "    The type of the output array.  If `dtype` is not given, infer the data\n",
      "    type from the other input arguments.\n",
      "like : array_like, optional\n",
      "    Reference object to allow the creation of arrays which are not\n",
      "    NumPy arrays. If an array-like passed in as ``like`` supports\n",
      "    the ``__array_function__`` protocol, the result will be defined\n",
      "    by it. In this case, it ensures the creation of an array object\n",
      "    compatible with that passed in via this argument.\n",
      "\n",
      "    .. versionadded:: 1.20.0\n",
      "\n",
      "Returns\n",
      "-------\n",
      "arange : ndarray\n",
      "    Array of evenly spaced values.\n",
      "\n",
      "    For floating point arguments, the length of the result is\n",
      "    ``ceil((stop - start)/step)``.  Because of floating point overflow,\n",
      "    this rule may result in the last element of `out` being greater\n",
      "    than `stop`.\n",
      "\n",
      "Warnings\n",
      "--------\n",
      "The length of the output might not be numerically stable.\n",
      "\n",
      "Another stability issue is due to the internal implementation of\n",
      "`numpy.arange`.\n",
      "The actual step value used to populate the array is\n",
      "``dtype(start + step) - dtype(start)`` and not `step`. Precision loss\n",
      "can occur here, due to casting or due to using floating points when\n",
      "`start` is much larger than `step`. This can lead to unexpected\n",
      "behaviour. For example::\n",
      "\n",
      "  >>> np.arange(0, 5, 0.5, dtype=int)\n",
      "  array([0, 0, 0, 0, 0, 0, 0, 0, 0, 0])\n",
      "  >>> np.arange(-3, 3, 0.5, dtype=int)\n",
      "  array([-3, -2, -1,  0,  1,  2,  3,  4,  5,  6,  7,  8])\n",
      "\n",
      "In such cases, the use of `numpy.linspace` should be preferred.\n",
      "\n",
      "The built-in :py:class:`range` generates :std:doc:`Python built-in integers\n",
      "that have arbitrary size <python:c-api/long>`, while `numpy.arange`\n",
      "produces `numpy.int32` or `numpy.int64` numbers. This may result in\n",
      "incorrect results for large integer values::\n",
      "\n",
      "  >>> power = 40\n",
      "  >>> modulo = 10000\n",
      "  >>> x1 = [(n ** power) % modulo for n in range(8)]\n",
      "  >>> x2 = [(n ** power) % modulo for n in np.arange(8)]\n",
      "  >>> print(x1)\n",
      "  [0, 1, 7776, 8801, 6176, 625, 6576, 4001]  # correct\n",
      "  >>> print(x2)\n",
      "  [0, 1, 7776, 7185, 0, 5969, 4816, 3361]  # incorrect\n",
      "\n",
      "See Also\n",
      "--------\n",
      "numpy.linspace : Evenly spaced numbers with careful handling of endpoints.\n",
      "numpy.ogrid: Arrays of evenly spaced numbers in N-dimensions.\n",
      "numpy.mgrid: Grid-shaped arrays of evenly spaced numbers in N-dimensions.\n",
      ":ref:`how-to-partition`\n",
      "\n",
      "Examples\n",
      "--------\n",
      ">>> np.arange(3)\n",
      "array([0, 1, 2])\n",
      ">>> np.arange(3.0)\n",
      "array([ 0.,  1.,  2.])\n",
      ">>> np.arange(3,7)\n",
      "array([3, 4, 5, 6])\n",
      ">>> np.arange(3,7,2)\n",
      "array([3, 5])\n",
      "\u001b[1;31mType:\u001b[0m      builtin_function_or_method"
     ]
    }
   ],
   "source": [
    "??np.arange"
   ]
  },
  {
   "cell_type": "code",
   "execution_count": 153,
   "metadata": {
    "ExecuteTime": {
     "end_time": "2021-03-04T13:13:11.553100Z",
     "start_time": "2021-03-04T13:13:11.533041Z"
    }
   },
   "outputs": [
    {
     "data": {
      "text/plain": [
       "array([-2. , -1.5, -1. , -0.5,  0. ,  0.5,  1. ,  1.5])"
      ]
     },
     "execution_count": 153,
     "metadata": {},
     "output_type": "execute_result"
    }
   ],
   "source": [
    "np.arange(-2, 2, 0.5)"
   ]
  },
  {
   "cell_type": "code",
   "execution_count": 154,
   "metadata": {},
   "outputs": [
    {
     "name": "stdout",
     "output_type": "stream",
     "text": [
      "\u001b[1;31mDocstring:\u001b[0m\n",
      "randn(d0, d1, ..., dn)\n",
      "\n",
      "Return a sample (or samples) from the \"standard normal\" distribution.\n",
      "\n",
      ".. note::\n",
      "    This is a convenience function for users porting code from Matlab,\n",
      "    and wraps `standard_normal`. That function takes a\n",
      "    tuple to specify the size of the output, which is consistent with\n",
      "    other NumPy functions like `numpy.zeros` and `numpy.ones`.\n",
      "\n",
      ".. note::\n",
      "    New code should use the\n",
      "    `~numpy.random.Generator.standard_normal`\n",
      "    method of a `~numpy.random.Generator` instance instead;\n",
      "    please see the :ref:`random-quick-start`.\n",
      "\n",
      "If positive int_like arguments are provided, `randn` generates an array\n",
      "of shape ``(d0, d1, ..., dn)``, filled\n",
      "with random floats sampled from a univariate \"normal\" (Gaussian)\n",
      "distribution of mean 0 and variance 1. A single float randomly sampled\n",
      "from the distribution is returned if no argument is provided.\n",
      "\n",
      "Parameters\n",
      "----------\n",
      "d0, d1, ..., dn : int, optional\n",
      "    The dimensions of the returned array, must be non-negative.\n",
      "    If no argument is given a single Python float is returned.\n",
      "\n",
      "Returns\n",
      "-------\n",
      "Z : ndarray or float\n",
      "    A ``(d0, d1, ..., dn)``-shaped array of floating-point samples from\n",
      "    the standard normal distribution, or a single such float if\n",
      "    no parameters were supplied.\n",
      "\n",
      "See Also\n",
      "--------\n",
      "standard_normal : Similar, but takes a tuple as its argument.\n",
      "normal : Also accepts mu and sigma arguments.\n",
      "random.Generator.standard_normal: which should be used for new code.\n",
      "\n",
      "Notes\n",
      "-----\n",
      "For random samples from the normal distribution with mean ``mu`` and\n",
      "standard deviation ``sigma``, use::\n",
      "\n",
      "    sigma * np.random.randn(...) + mu\n",
      "\n",
      "Examples\n",
      "--------\n",
      ">>> np.random.randn()\n",
      "2.1923875335537315  # random\n",
      "\n",
      "Two-by-four array of samples from the normal distribution with\n",
      "mean 3 and standard deviation 2.5:\n",
      "\n",
      ">>> 3 + 2.5 * np.random.randn(2, 4)\n",
      "array([[-4.49401501,  4.00950034, -1.81814867,  7.29718677],   # random\n",
      "       [ 0.39924804,  4.68456316,  4.99394529,  4.84057254]])  # random\n",
      "\u001b[1;31mType:\u001b[0m      builtin_function_or_method"
     ]
    }
   ],
   "source": [
    "??np.random.randn"
   ]
  },
  {
   "cell_type": "code",
   "execution_count": 155,
   "metadata": {
    "ExecuteTime": {
     "end_time": "2021-03-04T13:13:37.060198Z",
     "start_time": "2021-03-04T13:13:37.052684Z"
    }
   },
   "outputs": [
    {
     "data": {
      "text/plain": [
       "array([[-1.60921761,  1.41994625,  0.24754077],\n",
       "       [-0.53032588, -1.11562141,  2.23745027],\n",
       "       [ 2.45803735,  2.68652738,  0.88415149]])"
      ]
     },
     "execution_count": 155,
     "metadata": {},
     "output_type": "execute_result"
    }
   ],
   "source": [
    "np.random.randn(3, 3)"
   ]
  },
  {
   "cell_type": "code",
   "execution_count": 156,
   "metadata": {
    "ExecuteTime": {
     "end_time": "2021-03-04T13:14:20.406628Z",
     "start_time": "2021-03-04T13:14:20.399730Z"
    }
   },
   "outputs": [
    {
     "data": {
      "text/plain": [
       "array([[1, 1, 1],\n",
       "       [5, 6, 2],\n",
       "       [2, 1, 4]])"
      ]
     },
     "execution_count": 156,
     "metadata": {},
     "output_type": "execute_result"
    }
   ],
   "source": [
    "np.random.randint(low=1, high=7, size=(3,3))"
   ]
  },
  {
   "cell_type": "code",
   "execution_count": 157,
   "metadata": {
    "ExecuteTime": {
     "end_time": "2021-03-04T13:14:39.501768Z",
     "start_time": "2021-03-04T13:14:39.491009Z"
    }
   },
   "outputs": [
    {
     "data": {
      "text/plain": [
       "array([[1., 0., 0., 0., 0.],\n",
       "       [0., 1., 0., 0., 0.],\n",
       "       [0., 0., 1., 0., 0.],\n",
       "       [0., 0., 0., 1., 0.],\n",
       "       [0., 0., 0., 0., 1.]])"
      ]
     },
     "execution_count": 157,
     "metadata": {},
     "output_type": "execute_result"
    }
   ],
   "source": [
    "np.eye(5)"
   ]
  },
  {
   "cell_type": "code",
   "execution_count": 158,
   "metadata": {
    "ExecuteTime": {
     "end_time": "2021-03-04T13:14:59.335926Z",
     "start_time": "2021-03-04T13:14:59.328609Z"
    }
   },
   "outputs": [
    {
     "data": {
      "text/plain": [
       "array([[1., 0., 0., 0., 0., 0., 0., 0.],\n",
       "       [0., 1., 0., 0., 0., 0., 0., 0.],\n",
       "       [0., 0., 1., 0., 0., 0., 0., 0.],\n",
       "       [0., 0., 0., 1., 0., 0., 0., 0.],\n",
       "       [0., 0., 0., 0., 1., 0., 0., 0.]])"
      ]
     },
     "execution_count": 158,
     "metadata": {},
     "output_type": "execute_result"
    }
   ],
   "source": [
    "np.eye(5, 8)"
   ]
  },
  {
   "cell_type": "markdown",
   "metadata": {},
   "source": [
    "## Indexing arrays\n",
    "\n",
    "Arrays in `NumPy` are 0-indexed. Indexing of 1-d arrays is very easy, just follow the pattern of *start*:*end*:*step*"
   ]
  },
  {
   "cell_type": "code",
   "execution_count": 159,
   "metadata": {
    "ExecuteTime": {
     "end_time": "2021-03-04T13:16:20.626180Z",
     "start_time": "2021-03-04T13:16:20.615565Z"
    }
   },
   "outputs": [
    {
     "name": "stdout",
     "output_type": "stream",
     "text": [
      "Full array: [0 1 2 3 4 5 6 7 8 9]\n",
      "First element: 0\n",
      "First three elements: [0 1 2]\n",
      "Last element: 9 and 9\n",
      "Even elements: [0 2 4 6 8]\n"
     ]
    }
   ],
   "source": [
    "a = np.arange(0, 10)\n",
    "\n",
    "print(f'Full array: {a}')\n",
    "print(f'First element: {a[0]}')\n",
    "print(f'First three elements: {a[0:3]}')\n",
    "print(f'Last element: {a[len(a)-1]} and {a[-1]}')\n",
    "print(f'Even elements: {a[::2]}')"
   ]
  },
  {
   "cell_type": "markdown",
   "metadata": {},
   "source": [
    "Indexing of n-dim arrays is a bit more tricky. Keep in mind that axis 0 refers to rows and axis 1 refers to columns. For high dimensional arrays try to build the following intuition:\n",
    "- 1-d: a row of values\n",
    "- 2-d: a matrix (rows and columns) of values\n",
    "- 3-d: a row of arrays\n",
    "- 4-d: a matrix of arrays\n",
    "- and so on..."
   ]
  },
  {
   "cell_type": "code",
   "execution_count": 160,
   "metadata": {
    "ExecuteTime": {
     "end_time": "2021-03-04T13:18:21.877530Z",
     "start_time": "2021-03-04T13:18:21.866842Z"
    }
   },
   "outputs": [
    {
     "name": "stdout",
     "output_type": "stream",
     "text": [
      "[[  1   2   3   4]\n",
      " [ 10  20  30  40]\n",
      " [100 200 300 400]]\n",
      "Element at second row, third column: 30\n",
      "Entire first row: [1 2 3 4]\n",
      "Entire first row as 2-d array: [[1 2 3 4]]\n",
      "First and second rows, last column: [ 4 40]\n"
     ]
    }
   ],
   "source": [
    "a = np.array([\n",
    "    [1, 2, 3, 4],\n",
    "    [10, 20, 30, 40],\n",
    "    [100, 200, 300, 400],\n",
    "])\n",
    "\n",
    "print(a)\n",
    "\n",
    "print(f'Element at second row, third column: {a[1,2]}')\n",
    "print(f'Entire first row: {a[0,]}')\n",
    "print(f'Entire first row as 2-d array: {a[0, None]}')\n",
    "print(f'First and second rows, last column: {a[:2,-1]}')\n"
   ]
  },
  {
   "cell_type": "markdown",
   "metadata": {},
   "source": [
    "The same goes with all n-dim arrays. For instance, let's extract first matrix, all rows, first column. You can also use indexing to assign multiple values to array cell at once."
   ]
  },
  {
   "cell_type": "code",
   "execution_count": 161,
   "metadata": {
    "ExecuteTime": {
     "end_time": "2021-03-04T13:20:16.240846Z",
     "start_time": "2021-03-04T13:20:16.234427Z"
    }
   },
   "outputs": [
    {
     "data": {
      "text/plain": [
       "array([[[0, 0],\n",
       "        [0, 1]],\n",
       "\n",
       "       [[1, 0],\n",
       "        [1, 1]]])"
      ]
     },
     "execution_count": 161,
     "metadata": {},
     "output_type": "execute_result"
    }
   ],
   "source": [
    "a_3d"
   ]
  },
  {
   "cell_type": "code",
   "execution_count": 162,
   "metadata": {
    "ExecuteTime": {
     "end_time": "2021-03-04T13:20:57.303804Z",
     "start_time": "2021-03-04T13:20:57.290046Z"
    }
   },
   "outputs": [
    {
     "data": {
      "text/plain": [
       "array([1, 1])"
      ]
     },
     "execution_count": 162,
     "metadata": {},
     "output_type": "execute_result"
    }
   ],
   "source": [
    "a_3d[1, :, 0]"
   ]
  },
  {
   "cell_type": "code",
   "execution_count": 163,
   "metadata": {
    "ExecuteTime": {
     "end_time": "2021-03-04T13:21:21.940140Z",
     "start_time": "2021-03-04T13:21:21.936109Z"
    }
   },
   "outputs": [
    {
     "name": "stdout",
     "output_type": "stream",
     "text": [
      "[[[ 0  0]\n",
      "  [ 0  1]]\n",
      "\n",
      " [[ 1 -1]\n",
      "  [ 1 -1]]]\n"
     ]
    }
   ],
   "source": [
    "a_3d[1, :, 1] = -1\n",
    "\n",
    "print(a_3d)"
   ]
  },
  {
   "cell_type": "markdown",
   "metadata": {},
   "source": [
    "## Basic operations on arrays\n",
    "\n",
    "All array operations are vectorized, so they tend to be very quick. By default, `NumPy` performs element-wise array operations. If you want to correctly multiply arrays, use `@` operator as shown below."
   ]
  },
  {
   "cell_type": "code",
   "execution_count": 164,
   "metadata": {
    "ExecuteTime": {
     "end_time": "2021-03-04T13:22:29.144487Z",
     "start_time": "2021-03-04T13:22:29.139066Z"
    }
   },
   "outputs": [],
   "source": [
    "a = np.arange(0, 12)\n",
    "b = np.arange(12, 24)\n",
    "\n",
    "a.shape = b.shape = 3, 4"
   ]
  },
  {
   "cell_type": "code",
   "execution_count": 165,
   "metadata": {
    "ExecuteTime": {
     "end_time": "2021-03-04T13:22:48.461576Z",
     "start_time": "2021-03-04T13:22:48.455160Z"
    }
   },
   "outputs": [
    {
     "data": {
      "text/plain": [
       "array([[ 0,  1,  2,  3],\n",
       "       [ 4,  5,  6,  7],\n",
       "       [ 8,  9, 10, 11]])"
      ]
     },
     "execution_count": 165,
     "metadata": {},
     "output_type": "execute_result"
    }
   ],
   "source": [
    "a"
   ]
  },
  {
   "cell_type": "code",
   "execution_count": 166,
   "metadata": {
    "ExecuteTime": {
     "end_time": "2021-03-04T13:23:07.434526Z",
     "start_time": "2021-03-04T13:23:07.425287Z"
    }
   },
   "outputs": [
    {
     "data": {
      "text/plain": [
       "array([[12, 13, 14, 15],\n",
       "       [16, 17, 18, 19],\n",
       "       [20, 21, 22, 23]])"
      ]
     },
     "execution_count": 166,
     "metadata": {},
     "output_type": "execute_result"
    }
   ],
   "source": [
    "b"
   ]
  },
  {
   "cell_type": "code",
   "execution_count": 167,
   "metadata": {
    "ExecuteTime": {
     "end_time": "2021-03-04T13:23:28.286320Z",
     "start_time": "2021-03-04T13:23:28.278655Z"
    }
   },
   "outputs": [
    {
     "data": {
      "text/plain": [
       "array([[12, 14, 16, 18],\n",
       "       [20, 22, 24, 26],\n",
       "       [28, 30, 32, 34]])"
      ]
     },
     "execution_count": 167,
     "metadata": {},
     "output_type": "execute_result"
    }
   ],
   "source": [
    "a + b"
   ]
  },
  {
   "cell_type": "code",
   "execution_count": 168,
   "metadata": {
    "ExecuteTime": {
     "end_time": "2021-03-04T00:22:14.920011Z",
     "start_time": "2021-03-04T00:22:14.917144Z"
    }
   },
   "outputs": [
    {
     "data": {
      "text/plain": [
       "array([[12, 12, 12, 12],\n",
       "       [12, 12, 12, 12],\n",
       "       [12, 12, 12, 12]])"
      ]
     },
     "execution_count": 168,
     "metadata": {},
     "output_type": "execute_result"
    }
   ],
   "source": [
    "b - a"
   ]
  },
  {
   "cell_type": "code",
   "execution_count": 169,
   "metadata": {
    "ExecuteTime": {
     "end_time": "2021-03-04T13:23:49.057702Z",
     "start_time": "2021-03-04T13:23:49.047245Z"
    }
   },
   "outputs": [
    {
     "data": {
      "text/plain": [
       "array([[10, 11, 12, 13],\n",
       "       [14, 15, 16, 17],\n",
       "       [18, 19, 20, 21]])"
      ]
     },
     "execution_count": 169,
     "metadata": {},
     "output_type": "execute_result"
    }
   ],
   "source": [
    "a + 10"
   ]
  },
  {
   "cell_type": "code",
   "execution_count": 170,
   "metadata": {},
   "outputs": [
    {
     "data": {
      "text/plain": [
       "((3, 4), (3, 4))"
      ]
     },
     "execution_count": 170,
     "metadata": {},
     "output_type": "execute_result"
    }
   ],
   "source": [
    "a.shape, b.shape"
   ]
  },
  {
   "cell_type": "code",
   "execution_count": 171,
   "metadata": {
    "ExecuteTime": {
     "end_time": "2021-03-04T13:24:31.691102Z",
     "start_time": "2021-03-04T13:24:31.599197Z"
    }
   },
   "outputs": [
    {
     "data": {
      "text/plain": [
       "array([[ 86, 110, 134],\n",
       "       [302, 390, 478],\n",
       "       [518, 670, 822]])"
      ]
     },
     "execution_count": 171,
     "metadata": {},
     "output_type": "execute_result"
    }
   ],
   "source": [
    "a @ b.T "
   ]
  },
  {
   "cell_type": "markdown",
   "metadata": {},
   "source": [
    "## Exercises"
   ]
  },
  {
   "cell_type": "markdown",
   "metadata": {},
   "source": [
    "### Calculating sliding averages\n",
    "\n",
    "Given an array of daily measurements, create a new array with averages computed over each pair of consecutive days"
   ]
  },
  {
   "cell_type": "code",
   "execution_count": 172,
   "metadata": {
    "ExecuteTime": {
     "end_time": "2021-03-04T13:31:26.704866Z",
     "start_time": "2021-03-04T13:31:26.701305Z"
    }
   },
   "outputs": [],
   "source": [
    "measurements = np.arange(100)"
   ]
  },
  {
   "cell_type": "code",
   "execution_count": 173,
   "metadata": {},
   "outputs": [
    {
     "data": {
      "text/plain": [
       "array([ 0,  1,  2,  3,  4,  5,  6,  7,  8,  9, 10, 11, 12, 13, 14, 15, 16,\n",
       "       17, 18, 19, 20, 21, 22, 23, 24, 25, 26, 27, 28, 29, 30, 31, 32, 33,\n",
       "       34, 35, 36, 37, 38, 39, 40, 41, 42, 43, 44, 45, 46, 47, 48, 49, 50,\n",
       "       51, 52, 53, 54, 55, 56, 57, 58, 59, 60, 61, 62, 63, 64, 65, 66, 67,\n",
       "       68, 69, 70, 71, 72, 73, 74, 75, 76, 77, 78, 79, 80, 81, 82, 83, 84,\n",
       "       85, 86, 87, 88, 89, 90, 91, 92, 93, 94, 95, 96, 97, 98, 99])"
      ]
     },
     "execution_count": 173,
     "metadata": {},
     "output_type": "execute_result"
    }
   ],
   "source": [
    "measurements"
   ]
  },
  {
   "cell_type": "code",
   "execution_count": 174,
   "metadata": {},
   "outputs": [
    {
     "data": {
      "text/plain": [
       "array([ 0.5,  1.5,  2.5,  3.5,  4.5,  5.5,  6.5,  7.5,  8.5,  9.5, 10.5,\n",
       "       11.5, 12.5, 13.5, 14.5, 15.5, 16.5, 17.5, 18.5, 19.5, 20.5, 21.5,\n",
       "       22.5, 23.5, 24.5, 25.5, 26.5, 27.5, 28.5, 29.5, 30.5, 31.5, 32.5,\n",
       "       33.5, 34.5, 35.5, 36.5, 37.5, 38.5, 39.5, 40.5, 41.5, 42.5, 43.5,\n",
       "       44.5, 45.5, 46.5, 47.5, 48.5, 49.5, 50.5, 51.5, 52.5, 53.5, 54.5,\n",
       "       55.5, 56.5, 57.5, 58.5, 59.5, 60.5, 61.5, 62.5, 63.5, 64.5, 65.5,\n",
       "       66.5, 67.5, 68.5, 69.5, 70.5, 71.5, 72.5, 73.5, 74.5, 75.5, 76.5,\n",
       "       77.5, 78.5, 79.5, 80.5, 81.5, 82.5, 83.5, 84.5, 85.5, 86.5, 87.5,\n",
       "       88.5, 89.5, 90.5, 91.5, 92.5, 93.5, 94.5, 95.5, 96.5, 97.5, 98.5])"
      ]
     },
     "execution_count": 174,
     "metadata": {},
     "output_type": "execute_result"
    }
   ],
   "source": [
    "#my solution\n",
    "((measurements + np.roll(measurements, 1))/2)[1:]"
   ]
  },
  {
   "cell_type": "code",
   "execution_count": 175,
   "metadata": {},
   "outputs": [
    {
     "data": {
      "text/plain": [
       "array([ 0.5,  1.5,  2.5,  3.5,  4.5,  5.5,  6.5,  7.5,  8.5,  9.5, 10.5,\n",
       "       11.5, 12.5, 13.5, 14.5, 15.5, 16.5, 17.5, 18.5, 19.5, 20.5, 21.5,\n",
       "       22.5, 23.5, 24.5, 25.5, 26.5, 27.5, 28.5, 29.5, 30.5, 31.5, 32.5,\n",
       "       33.5, 34.5, 35.5, 36.5, 37.5, 38.5, 39.5, 40.5, 41.5, 42.5, 43.5,\n",
       "       44.5, 45.5, 46.5, 47.5, 48.5, 49.5, 50.5, 51.5, 52.5, 53.5, 54.5,\n",
       "       55.5, 56.5, 57.5, 58.5, 59.5, 60.5, 61.5, 62.5, 63.5, 64.5, 65.5,\n",
       "       66.5, 67.5, 68.5, 69.5, 70.5, 71.5, 72.5, 73.5, 74.5, 75.5, 76.5,\n",
       "       77.5, 78.5, 79.5, 80.5, 81.5, 82.5, 83.5, 84.5, 85.5, 86.5, 87.5,\n",
       "       88.5, 89.5, 90.5, 91.5, 92.5, 93.5, 94.5, 95.5, 96.5, 97.5, 98.5])"
      ]
     },
     "execution_count": 175,
     "metadata": {},
     "output_type": "execute_result"
    }
   ],
   "source": [
    "#other solution\n",
    "(measurements[1:] + measurements[:-1])/2"
   ]
  },
  {
   "cell_type": "markdown",
   "metadata": {},
   "source": [
    "### Battleships\n",
    "\n",
    "Given a 10x10 playing field with hidden battleships and a list of shooting targets, compute the number of hits."
   ]
  },
  {
   "cell_type": "code",
   "execution_count": 176,
   "metadata": {
    "ExecuteTime": {
     "end_time": "2021-03-04T13:25:41.276190Z",
     "start_time": "2021-03-04T13:25:41.262747Z"
    }
   },
   "outputs": [
    {
     "data": {
      "text/plain": [
       "array([[0, 1, 1, 0, 1, 1, 1, 0, 1, 1],\n",
       "       [1, 0, 1, 1, 0, 0, 1, 1, 1, 0],\n",
       "       [0, 0, 1, 1, 1, 1, 1, 0, 1, 0],\n",
       "       [0, 1, 1, 1, 0, 1, 1, 1, 1, 1],\n",
       "       [0, 0, 0, 0, 1, 0, 1, 1, 1, 1],\n",
       "       [0, 1, 0, 0, 0, 1, 0, 1, 0, 0],\n",
       "       [0, 0, 1, 1, 0, 1, 1, 0, 0, 0],\n",
       "       [0, 0, 0, 0, 0, 0, 1, 0, 1, 0],\n",
       "       [1, 1, 1, 1, 1, 0, 1, 0, 0, 0],\n",
       "       [1, 1, 0, 0, 0, 0, 0, 1, 0, 0]])"
      ]
     },
     "execution_count": 176,
     "metadata": {},
     "output_type": "execute_result"
    }
   ],
   "source": [
    "sea = np.random.randint(low=0, high=2, size=(10,10))\n",
    "\n",
    "sea"
   ]
  },
  {
   "cell_type": "code",
   "execution_count": 177,
   "metadata": {
    "ExecuteTime": {
     "end_time": "2021-03-04T13:32:47.465378Z",
     "start_time": "2021-03-04T13:32:47.447322Z"
    }
   },
   "outputs": [],
   "source": [
    "targets = np.array([\n",
    "    [0,3],\n",
    "    [1,7],\n",
    "    [2,2],\n",
    "    [3,5],\n",
    "    [8,2]\n",
    "])"
   ]
  },
  {
   "cell_type": "code",
   "execution_count": 178,
   "metadata": {},
   "outputs": [
    {
     "data": {
      "text/plain": [
       "4"
      ]
     },
     "execution_count": 178,
     "metadata": {},
     "output_type": "execute_result"
    }
   ],
   "source": [
    "#my solution\n",
    "sea[targets[:,0], targets[:,1]].sum()"
   ]
  },
  {
   "cell_type": "markdown",
   "metadata": {},
   "source": [
    "## Broadcasting\n",
    "\n",
    "This is by far the most important concept in `NumPy`. Broadcasting is an automatic expansion of arrays so that they match with their operands.\n",
    "\n",
    "Let's start with the simplest example."
   ]
  },
  {
   "cell_type": "code",
   "execution_count": 179,
   "metadata": {
    "ExecuteTime": {
     "end_time": "2021-03-04T13:35:17.704786Z",
     "start_time": "2021-03-04T13:35:17.686981Z"
    }
   },
   "outputs": [
    {
     "data": {
      "text/plain": [
       "array([10, 11, 12, 13, 14, 15, 16, 17, 18, 19])"
      ]
     },
     "execution_count": 179,
     "metadata": {},
     "output_type": "execute_result"
    }
   ],
   "source": [
    "a = np.arange(10)\n",
    "\n",
    "a + 10"
   ]
  },
  {
   "cell_type": "markdown",
   "metadata": {},
   "source": [
    "The same happens for 2-d arrays"
   ]
  },
  {
   "cell_type": "code",
   "execution_count": 180,
   "metadata": {
    "ExecuteTime": {
     "end_time": "2021-03-04T13:36:11.473371Z",
     "start_time": "2021-03-04T13:36:11.467333Z"
    }
   },
   "outputs": [],
   "source": [
    "a = np.array([\n",
    "    [1, 2, 3, 4],\n",
    "    [1, 4, 9, 16],\n",
    "])\n",
    "\n",
    "b = np.array([\n",
    "    [0.1, 0.2]]\n",
    ")"
   ]
  },
  {
   "cell_type": "code",
   "execution_count": 181,
   "metadata": {},
   "outputs": [
    {
     "data": {
      "text/plain": [
       "((2, 4), (2, 1))"
      ]
     },
     "execution_count": 181,
     "metadata": {},
     "output_type": "execute_result"
    }
   ],
   "source": [
    "a.shape, b.T.shape"
   ]
  },
  {
   "cell_type": "code",
   "execution_count": 182,
   "metadata": {
    "ExecuteTime": {
     "end_time": "2021-03-04T13:37:13.042712Z",
     "start_time": "2021-03-04T13:37:13.034225Z"
    }
   },
   "outputs": [
    {
     "data": {
      "text/plain": [
       "array([[ 1.1,  2.1,  3.1,  4.1],\n",
       "       [ 1.2,  4.2,  9.2, 16.2]])"
      ]
     },
     "execution_count": 182,
     "metadata": {},
     "output_type": "execute_result"
    }
   ],
   "source": [
    "a + b.T"
   ]
  },
  {
   "cell_type": "markdown",
   "metadata": {},
   "source": [
    "The simple rule for broadcasting is the following:\n",
    "\n",
    "If we want to operate on two arrays `a` and `b`:\n",
    "- moving backwards from the last dimension of each array, we check if their dimensions are the same or one equals 1\n",
    "- if all of `a`'s dimensions are compatible with `b`'s dimensions, arrays `a` and `b` are compatible."
   ]
  },
  {
   "cell_type": "code",
   "execution_count": 183,
   "metadata": {
    "ExecuteTime": {
     "end_time": "2021-03-04T13:38:54.057306Z",
     "start_time": "2021-03-04T13:38:54.047873Z"
    }
   },
   "outputs": [
    {
     "name": "stdout",
     "output_type": "stream",
     "text": [
      "[[4 7 6 5]\n",
      " [9 2 8 7]\n",
      " [9 1 6 1]]\n",
      "[[7]\n",
      " [3]\n",
      " [1]]\n"
     ]
    }
   ],
   "source": [
    "np.random.seed(1234)\n",
    "\n",
    "a = np.random.randint(low = 1, high = 10, size = (3, 4))\n",
    "print(a)\n",
    "\n",
    "b = np.random.randint(low = 1, high = 10, size = (3, 1))\n",
    "print(b)"
   ]
  },
  {
   "cell_type": "code",
   "execution_count": 184,
   "metadata": {
    "ExecuteTime": {
     "end_time": "2021-03-04T13:39:40.655864Z",
     "start_time": "2021-03-04T13:39:40.649136Z"
    }
   },
   "outputs": [
    {
     "data": {
      "text/plain": [
       "array([[11, 14, 13, 12],\n",
       "       [12,  5, 11, 10],\n",
       "       [10,  2,  7,  2]])"
      ]
     },
     "execution_count": 184,
     "metadata": {},
     "output_type": "execute_result"
    }
   ],
   "source": [
    "a + b"
   ]
  },
  {
   "cell_type": "code",
   "execution_count": 185,
   "metadata": {
    "ExecuteTime": {
     "end_time": "2021-03-04T13:40:26.857657Z",
     "start_time": "2021-03-04T13:40:26.842121Z"
    }
   },
   "outputs": [
    {
     "name": "stdout",
     "output_type": "stream",
     "text": [
      "[[[4 7 6 5]]\n",
      "\n",
      " [[9 2 8 7]]\n",
      "\n",
      " [[9 1 6 1]]]\n",
      "[[7]\n",
      " [3]]\n"
     ]
    }
   ],
   "source": [
    "np.random.seed(1234)\n",
    "\n",
    "a = np.random.randint(low = 1, high = 10, size = (3, 1, 4))\n",
    "print(a)\n",
    "\n",
    "b = np.random.randint(low = 1, high = 10, size = (2, 1))\n",
    "print(b)"
   ]
  },
  {
   "cell_type": "code",
   "execution_count": 186,
   "metadata": {
    "ExecuteTime": {
     "end_time": "2021-03-04T13:41:35.532034Z",
     "start_time": "2021-03-04T13:41:35.525365Z"
    }
   },
   "outputs": [
    {
     "data": {
      "text/plain": [
       "(3, 2, 4)"
      ]
     },
     "execution_count": 186,
     "metadata": {},
     "output_type": "execute_result"
    }
   ],
   "source": [
    "(a + b).shape"
   ]
  },
  {
   "cell_type": "markdown",
   "metadata": {},
   "source": [
    "Sometimes it is useful to be able to manually modify the shape of the array. This can be done using the `np.newaxis` function (which is simply an alias for the `None` keyword)"
   ]
  },
  {
   "cell_type": "code",
   "execution_count": 187,
   "metadata": {
    "ExecuteTime": {
     "end_time": "2021-03-04T13:42:18.823863Z",
     "start_time": "2021-03-04T13:42:18.815881Z"
    }
   },
   "outputs": [],
   "source": [
    "a = np.array([1, 2, 3, 5, 7, 11, 13])"
   ]
  },
  {
   "cell_type": "code",
   "execution_count": 188,
   "metadata": {
    "ExecuteTime": {
     "end_time": "2021-03-04T13:42:38.297766Z",
     "start_time": "2021-03-04T13:42:38.293802Z"
    }
   },
   "outputs": [
    {
     "data": {
      "text/plain": [
       "(7,)"
      ]
     },
     "execution_count": 188,
     "metadata": {},
     "output_type": "execute_result"
    }
   ],
   "source": [
    "a.shape"
   ]
  },
  {
   "cell_type": "code",
   "execution_count": 189,
   "metadata": {
    "ExecuteTime": {
     "end_time": "2021-03-04T13:42:56.190484Z",
     "start_time": "2021-03-04T13:42:56.184128Z"
    }
   },
   "outputs": [
    {
     "data": {
      "text/plain": [
       "(7, 1)"
      ]
     },
     "execution_count": 189,
     "metadata": {},
     "output_type": "execute_result"
    }
   ],
   "source": [
    "a[:, np.newaxis].shape"
   ]
  },
  {
   "cell_type": "code",
   "execution_count": 190,
   "metadata": {
    "ExecuteTime": {
     "end_time": "2021-03-04T00:49:52.530524Z",
     "start_time": "2021-03-04T00:49:52.526643Z"
    }
   },
   "outputs": [
    {
     "data": {
      "text/plain": [
       "(1, 7)"
      ]
     },
     "execution_count": 190,
     "metadata": {},
     "output_type": "execute_result"
    }
   ],
   "source": [
    "a[None, :].shape"
   ]
  },
  {
   "cell_type": "markdown",
   "metadata": {},
   "source": [
    "This can be very useful if one wants to build an array containing the results of a cross-join operation on two matrices. Suppose we are trying to create $c_{ij} = a_i - b_j$."
   ]
  },
  {
   "cell_type": "code",
   "execution_count": 191,
   "metadata": {
    "ExecuteTime": {
     "end_time": "2021-03-04T13:44:37.156766Z",
     "start_time": "2021-03-04T13:44:37.148882Z"
    }
   },
   "outputs": [
    {
     "name": "stdout",
     "output_type": "stream",
     "text": [
      "[[ 1  0 -1 -2 -3 -4 -5]\n",
      " [ 2  1  0 -1 -2 -3 -4]\n",
      " [ 3  2  1  0 -1 -2 -3]\n",
      " [ 5  4  3  2  1  0 -1]\n",
      " [ 7  6  5  4  3  2  1]\n",
      " [11 10  9  8  7  6  5]\n",
      " [13 12 11 10  9  8  7]]\n"
     ]
    }
   ],
   "source": [
    "b = np.arange(7)\n",
    "\n",
    "c = a[:, None] - b[None, :]\n",
    "\n",
    "print(c)"
   ]
  },
  {
   "cell_type": "markdown",
   "metadata": {},
   "source": [
    "## Boolean indexing\n",
    "\n",
    "Anytime you have a boolean array, you can use it to mask entries in another array."
   ]
  },
  {
   "cell_type": "code",
   "execution_count": 192,
   "metadata": {
    "ExecuteTime": {
     "end_time": "2021-03-04T13:45:11.374291Z",
     "start_time": "2021-03-04T13:45:11.363385Z"
    }
   },
   "outputs": [
    {
     "data": {
      "text/plain": [
       "array([[76, 37, 34, 38, 67],\n",
       "       [11,  0, 75, 80,  3],\n",
       "       [ 2, 19, 12, 65, 75],\n",
       "       [81, 14, 71, 60, 46],\n",
       "       [28, 81, 87, 13, 96]])"
      ]
     },
     "execution_count": 192,
     "metadata": {},
     "output_type": "execute_result"
    }
   ],
   "source": [
    "a = np.random.randint(0, 100, size=(5,5))\n",
    "\n",
    "a"
   ]
  },
  {
   "cell_type": "code",
   "execution_count": 193,
   "metadata": {
    "ExecuteTime": {
     "end_time": "2021-03-04T13:45:31.259277Z",
     "start_time": "2021-03-04T13:45:31.255325Z"
    }
   },
   "outputs": [],
   "source": [
    "temps_greater_than_50 = a > 50"
   ]
  },
  {
   "cell_type": "code",
   "execution_count": 194,
   "metadata": {},
   "outputs": [
    {
     "data": {
      "text/plain": [
       "array([76, 67, 75, 80, 65, 75, 81, 71, 60, 81, 87, 96])"
      ]
     },
     "execution_count": 194,
     "metadata": {},
     "output_type": "execute_result"
    }
   ],
   "source": [
    "a[temps_greater_than_50]"
   ]
  },
  {
   "cell_type": "markdown",
   "metadata": {},
   "source": [
    "Boolean masking may be applied not only to values, but to rows and columns as well. Just remember to use slicing:\n",
    "\n",
    "*array*[*row_mask*,*col_mask*]"
   ]
  },
  {
   "cell_type": "code",
   "execution_count": 195,
   "metadata": {
    "ExecuteTime": {
     "end_time": "2021-03-04T13:47:08.375507Z",
     "start_time": "2021-03-04T13:47:08.372114Z"
    }
   },
   "outputs": [],
   "source": [
    "rows_2_and_4 = np.array([False, True, False, True, False])\n",
    "cols_1_and_2 = np.array([True, True, False, False, False])"
   ]
  },
  {
   "cell_type": "code",
   "execution_count": 196,
   "metadata": {
    "ExecuteTime": {
     "end_time": "2021-03-04T13:47:27.929029Z",
     "start_time": "2021-03-04T13:47:27.923550Z"
    }
   },
   "outputs": [
    {
     "data": {
      "text/plain": [
       "array([[11,  0, 75, 80,  3],\n",
       "       [81, 14, 71, 60, 46]])"
      ]
     },
     "execution_count": 196,
     "metadata": {},
     "output_type": "execute_result"
    }
   ],
   "source": [
    "a[rows_2_and_4]"
   ]
  },
  {
   "cell_type": "code",
   "execution_count": 197,
   "metadata": {
    "ExecuteTime": {
     "end_time": "2021-03-04T13:47:52.672419Z",
     "start_time": "2021-03-04T13:47:52.653408Z"
    }
   },
   "outputs": [
    {
     "data": {
      "text/plain": [
       "array([11, 14])"
      ]
     },
     "execution_count": 197,
     "metadata": {},
     "output_type": "execute_result"
    }
   ],
   "source": [
    "a[rows_2_and_4, cols_1_and_2]"
   ]
  },
  {
   "cell_type": "code",
   "execution_count": 198,
   "metadata": {
    "ExecuteTime": {
     "end_time": "2021-03-04T13:48:13.933580Z",
     "start_time": "2021-03-04T13:48:13.927241Z"
    }
   },
   "outputs": [],
   "source": [
    "names = np.array([\"Dennis\", \"Dee\", \"Charlie\", \"Mac\", \"Frank\"])\n",
    "ages = np.array([43, 44, 43, 42, 74])\n",
    "genders = np.array(['male', 'female', 'male', 'male', 'male'])"
   ]
  },
  {
   "cell_type": "code",
   "execution_count": 199,
   "metadata": {
    "ExecuteTime": {
     "end_time": "2021-03-04T13:49:00.219652Z",
     "start_time": "2021-03-04T13:49:00.212754Z"
    }
   },
   "outputs": [
    {
     "data": {
      "text/plain": [
       "array(['Frank'], dtype='<U7')"
      ]
     },
     "execution_count": 199,
     "metadata": {},
     "output_type": "execute_result"
    }
   ],
   "source": [
    "names[(genders == 'male') & (ages > 43)]"
   ]
  },
  {
   "cell_type": "code",
   "execution_count": 200,
   "metadata": {
    "ExecuteTime": {
     "end_time": "2021-03-04T13:49:20.367011Z",
     "start_time": "2021-03-04T13:49:20.356561Z"
    }
   },
   "outputs": [
    {
     "data": {
      "text/plain": [
       "array(['Dee'], dtype='<U7')"
      ]
     },
     "execution_count": 200,
     "metadata": {},
     "output_type": "execute_result"
    }
   ],
   "source": [
    "names[~(genders == 'male') & (ages % 2 == 0)]"
   ]
  },
  {
   "cell_type": "markdown",
   "metadata": {},
   "source": [
    "## `Random` module\n",
    "\n",
    "One of the most frequently used parts of the `NumPy` is the random number generation procedure. Below you can see examples of different samples:\n",
    "- normal sample\n",
    "- uniform sample\n",
    "- choosing from a set with/without replacement"
   ]
  },
  {
   "cell_type": "code",
   "execution_count": 201,
   "metadata": {
    "ExecuteTime": {
     "end_time": "2021-03-04T13:49:46.450773Z",
     "start_time": "2021-03-04T13:49:46.441714Z"
    }
   },
   "outputs": [
    {
     "data": {
      "text/plain": [
       "array([[ 7.77254312,  9.32518006, 11.01484933],\n",
       "       [ 9.44297546,  9.57539397, 10.13749589],\n",
       "       [ 9.92948695, 10.32539432,  9.52647845]])"
      ]
     },
     "execution_count": 201,
     "metadata": {},
     "output_type": "execute_result"
    }
   ],
   "source": [
    "np.random.normal(loc=10.0, scale=1.0, size=(3,3))"
   ]
  },
  {
   "cell_type": "code",
   "execution_count": 202,
   "metadata": {
    "ExecuteTime": {
     "end_time": "2021-03-04T13:50:24.492056Z",
     "start_time": "2021-03-04T13:50:24.475232Z"
    }
   },
   "outputs": [
    {
     "data": {
      "text/plain": [
       "array([[12, 15, 16],\n",
       "       [17, 14, 13],\n",
       "       [15, 16, 14]])"
      ]
     },
     "execution_count": 202,
     "metadata": {},
     "output_type": "execute_result"
    }
   ],
   "source": [
    "np.random.randint(low=10, high=20, size=(3,3))"
   ]
  },
  {
   "cell_type": "code",
   "execution_count": 203,
   "metadata": {
    "ExecuteTime": {
     "end_time": "2021-03-04T13:50:44.336204Z",
     "start_time": "2021-03-04T13:50:44.319264Z"
    }
   },
   "outputs": [
    {
     "data": {
      "text/plain": [
       "array([0.32815036, 0.47386   , 0.06808472, 0.3827107 , 0.11855414])"
      ]
     },
     "execution_count": 203,
     "metadata": {},
     "output_type": "execute_result"
    }
   ],
   "source": [
    "np.random.uniform(low=0, high=1, size=5)"
   ]
  },
  {
   "cell_type": "code",
   "execution_count": 204,
   "metadata": {
    "ExecuteTime": {
     "end_time": "2021-03-04T13:51:25.029510Z",
     "start_time": "2021-03-04T13:51:25.019781Z"
    }
   },
   "outputs": [
    {
     "data": {
      "text/plain": [
       "array([4, 3, 2, 5, 2, 1, 2, 3, 2, 3])"
      ]
     },
     "execution_count": 204,
     "metadata": {},
     "output_type": "execute_result"
    }
   ],
   "source": [
    "np.random.choice(\n",
    "    a=[1,2,3,4,5,6],\n",
    "    replace=True,\n",
    "    size=10\n",
    ")"
   ]
  },
  {
   "cell_type": "code",
   "execution_count": 205,
   "metadata": {
    "ExecuteTime": {
     "end_time": "2021-03-04T13:51:44.710682Z",
     "start_time": "2021-03-04T13:51:44.701007Z"
    }
   },
   "outputs": [
    {
     "data": {
      "text/plain": [
       "array(['is', 'sampling', 'is', 'is', 'replacement', 'is', 'sampling',\n",
       "       'replacement'], dtype='<U11')"
      ]
     },
     "execution_count": 205,
     "metadata": {},
     "output_type": "execute_result"
    }
   ],
   "source": [
    "np.random.choice(\n",
    "    a=['this','is','sampling','without','replacement'],\n",
    "    replace=True,\n",
    "    size=8\n",
    ")"
   ]
  },
  {
   "cell_type": "markdown",
   "metadata": {},
   "source": [
    "Despite the fact that most people use the `random` module as above, this way is in fact deprecated, because it introduces a dependency on the random number generator used currently by `NumPy`. In theory, if `NumPy` changes the generator, all the code becomes non-reproducible.\n",
    "A simple solution is to use the generic `Generator` class."
   ]
  },
  {
   "cell_type": "code",
   "execution_count": 206,
   "metadata": {
    "ExecuteTime": {
     "end_time": "2021-03-04T13:52:59.008011Z",
     "start_time": "2021-03-04T13:52:58.997582Z"
    }
   },
   "outputs": [],
   "source": [
    "generator = np.random.default_rng(seed=123)"
   ]
  },
  {
   "cell_type": "code",
   "execution_count": 207,
   "metadata": {
    "ExecuteTime": {
     "end_time": "2021-03-04T13:53:20.226665Z",
     "start_time": "2021-03-04T13:53:20.216145Z"
    }
   },
   "outputs": [
    {
     "data": {
      "text/plain": [
       "array([ 2, 68, 59,  6, 90, 22, 26, 19, 34, 18], dtype=int64)"
      ]
     },
     "execution_count": 207,
     "metadata": {},
     "output_type": "execute_result"
    }
   ],
   "source": [
    "generator.integers(low=1, high=100, size=10)"
   ]
  },
  {
   "cell_type": "code",
   "execution_count": 208,
   "metadata": {
    "ExecuteTime": {
     "end_time": "2021-03-04T13:53:41.500806Z",
     "start_time": "2021-03-04T13:53:41.488864Z"
    }
   },
   "outputs": [
    {
     "data": {
      "text/plain": [
       "array([ 0.57710379, -0.63646365,  0.54195222, -0.31659545, -0.32238912,\n",
       "        0.09716732, -1.52593041,  1.1921661 , -0.67108968,  1.00026942])"
      ]
     },
     "execution_count": 208,
     "metadata": {},
     "output_type": "execute_result"
    }
   ],
   "source": [
    "generator.normal(loc=0, scale=1, size=10)"
   ]
  },
  {
   "cell_type": "code",
   "execution_count": 209,
   "metadata": {
    "ExecuteTime": {
     "end_time": "2021-03-04T13:54:01.554116Z",
     "start_time": "2021-03-04T13:54:01.544657Z"
    }
   },
   "outputs": [
    {
     "data": {
      "text/plain": [
       "array([1, 2, 2, 3, 3, 1, 3, 3, 1, 2])"
      ]
     },
     "execution_count": 209,
     "metadata": {},
     "output_type": "execute_result"
    }
   ],
   "source": [
    "generator.choice(a=[1,2,3], replace=True, size=10)"
   ]
  },
  {
   "cell_type": "markdown",
   "metadata": {},
   "source": [
    "## Exercises"
   ]
  },
  {
   "cell_type": "markdown",
   "metadata": {},
   "source": [
    "### Two reviewers\n",
    "\n",
    "You are given two arrays representing ratings assigned to 100 movies by two reviewers. Identify movies such that the reviewers differ in their rating by at most 1."
   ]
  },
  {
   "cell_type": "code",
   "execution_count": 210,
   "metadata": {
    "ExecuteTime": {
     "end_time": "2021-03-04T01:23:50.673956Z",
     "start_time": "2021-03-04T01:23:50.665992Z"
    }
   },
   "outputs": [],
   "source": [
    "movies = np.arange(100)\n",
    "reviewer_a = np.random.choice(a=[1,2,3,4,5], size=100)\n",
    "reviewer_b = np.random.choice(a=[1,2,3,4,5], size=100)"
   ]
  },
  {
   "cell_type": "code",
   "execution_count": 211,
   "metadata": {},
   "outputs": [
    {
     "data": {
      "text/plain": [
       "array([ 1,  3,  5,  8, 10, 13, 14, 15, 16, 21, 22, 23, 28, 29, 31, 33, 37,\n",
       "       42, 43, 45, 46, 49, 50, 51, 52, 53, 54, 56, 57, 58, 62, 63, 64, 66,\n",
       "       67, 69, 71, 72, 73, 78, 80, 81, 82, 84, 85, 86, 92, 94, 95, 96, 98])"
      ]
     },
     "execution_count": 211,
     "metadata": {},
     "output_type": "execute_result"
    }
   ],
   "source": [
    "#my solution\n",
    "movies[abs(reviewer_a - reviewer_b) <= 1]"
   ]
  },
  {
   "cell_type": "markdown",
   "metadata": {},
   "source": [
    "## Using `where`\n",
    "\n",
    "`np.where` is a very useful function which allows to quickly filter elements of an array based on the condition. Imagine you have two large arrays and you want to create a third array such that it contains, for each cell, the larger value from the two arrays. First, let's do it in a traditional way."
   ]
  },
  {
   "cell_type": "code",
   "execution_count": 212,
   "metadata": {
    "ExecuteTime": {
     "end_time": "2021-03-04T13:54:22.651424Z",
     "start_time": "2021-03-04T13:54:22.638584Z"
    }
   },
   "outputs": [],
   "source": [
    "a = np.random.randint(1, 6, size=10**6)\n",
    "b = np.random.randint(1, 6, size=10**6)"
   ]
  },
  {
   "cell_type": "code",
   "execution_count": 213,
   "metadata": {
    "ExecuteTime": {
     "end_time": "2021-03-04T13:54:47.525977Z",
     "start_time": "2021-03-04T13:54:47.302492Z"
    }
   },
   "outputs": [
    {
     "name": "stdout",
     "output_type": "stream",
     "text": [
      "CPU times: total: 1.25 s\n",
      "Wall time: 1.26 s\n"
     ]
    }
   ],
   "source": [
    "%%time\n",
    "c = np.zeros(a.size)\n",
    "\n",
    "for i in range(a.size):\n",
    "    if a[i] > b[i]:\n",
    "        c[i] = a[i]\n",
    "    else:\n",
    "        c[i] = b[i]\n"
   ]
  },
  {
   "cell_type": "code",
   "execution_count": 214,
   "metadata": {
    "ExecuteTime": {
     "end_time": "2021-03-04T13:55:15.932190Z",
     "start_time": "2021-03-04T13:55:15.923076Z"
    }
   },
   "outputs": [
    {
     "name": "stdout",
     "output_type": "stream",
     "text": [
      "CPU times: total: 0 ns\n",
      "Wall time: 5.74 ms\n"
     ]
    }
   ],
   "source": [
    "%%time\n",
    "d = np.where(a > b, a, b)"
   ]
  },
  {
   "cell_type": "code",
   "execution_count": 215,
   "metadata": {
    "ExecuteTime": {
     "end_time": "2021-03-04T13:55:34.871139Z",
     "start_time": "2021-03-04T13:55:34.863928Z"
    }
   },
   "outputs": [
    {
     "data": {
      "text/plain": [
       "True"
      ]
     },
     "execution_count": 215,
     "metadata": {},
     "output_type": "execute_result"
    }
   ],
   "source": [
    "np.array_equal(c,d)"
   ]
  },
  {
   "cell_type": "markdown",
   "metadata": {},
   "source": [
    "## Exercises"
   ]
  },
  {
   "cell_type": "markdown",
   "metadata": {},
   "source": [
    "### First to finish the assignment\n",
    "\n",
    "Given an array with students' assignments ordered by the increasing date of submission, you want to reward first 3 students who submitted their work and who got at least 75 points. Increase their scores by 5 points."
   ]
  },
  {
   "cell_type": "code",
   "execution_count": 216,
   "metadata": {},
   "outputs": [
    {
     "data": {
      "text/plain": [
       "array([58, 17, 54, 42, 93, 14, 29, 62, 31, 72, 31, 69,  3, 69, 66, 26, 88,\n",
       "       39, 36, 18, 87, 46, 76, 38, 66, 25, 54,  2, 57, 55, 77, 54, 20, 23,\n",
       "       64,  1,  8, 99, 87, 20, 42,  6,  2, 46, 18, 47, 82, 16, 51, 98])"
      ]
     },
     "execution_count": 216,
     "metadata": {},
     "output_type": "execute_result"
    }
   ],
   "source": [
    "grades = np.random.randint(low=0, high=100, size=50)\n",
    "grades"
   ]
  },
  {
   "cell_type": "code",
   "execution_count": 217,
   "metadata": {},
   "outputs": [
    {
     "data": {
      "text/plain": [
       "array([58, 17, 54, 42, 98, 14, 29, 62, 31, 72, 31, 69,  3, 69, 66, 26, 93,\n",
       "       39, 36, 18, 92, 46, 76, 38, 66, 25, 54,  2, 57, 55, 77, 54, 20, 23,\n",
       "       64,  1,  8, 99, 87, 20, 42,  6,  2, 46, 18, 47, 82, 16, 51, 98])"
      ]
     },
     "execution_count": 217,
     "metadata": {},
     "output_type": "execute_result"
    }
   ],
   "source": [
    "#my solution\n",
    "best_students = np.where(grades > 75)[0][:3]\n",
    "\n",
    "grades[best_students] += 5\n",
    "grades"
   ]
  },
  {
   "cell_type": "markdown",
   "metadata": {},
   "source": [
    "## Math functions\n",
    "\n",
    "`NumPy` contains several highly optimized implementations of math functions. Whenever possible, try to use them instead of your own implementations. Remember, that math functions are easily generalized to n-dim arrays."
   ]
  },
  {
   "cell_type": "code",
   "execution_count": 218,
   "metadata": {
    "ExecuteTime": {
     "end_time": "2021-03-04T13:55:56.832810Z",
     "start_time": "2021-03-04T13:55:56.824608Z"
    }
   },
   "outputs": [],
   "source": [
    "a = np.array([\n",
    "    [1, 2, 3, 4],\n",
    "    [5, 6, 7, 8],\n",
    "    [9, 10, 11, 12],\n",
    "    [13, 14, 15, 16],\n",
    "], dtype=np.float64)"
   ]
  },
  {
   "cell_type": "code",
   "execution_count": 219,
   "metadata": {},
   "outputs": [
    {
     "data": {
      "text/plain": [
       "array([[ 1.,  2.,  3.,  4.],\n",
       "       [ 5.,  6.,  7.,  8.],\n",
       "       [ 9., 10., 11., 12.],\n",
       "       [13., 14., 15., 16.]])"
      ]
     },
     "execution_count": 219,
     "metadata": {},
     "output_type": "execute_result"
    }
   ],
   "source": [
    "a"
   ]
  },
  {
   "cell_type": "code",
   "execution_count": 220,
   "metadata": {
    "ExecuteTime": {
     "end_time": "2021-03-04T13:56:18.831366Z",
     "start_time": "2021-03-04T13:56:18.823776Z"
    }
   },
   "outputs": [
    {
     "data": {
      "text/plain": [
       "136.0"
      ]
     },
     "execution_count": 220,
     "metadata": {},
     "output_type": "execute_result"
    }
   ],
   "source": [
    "np.sum(a)"
   ]
  },
  {
   "cell_type": "code",
   "execution_count": 221,
   "metadata": {
    "ExecuteTime": {
     "end_time": "2021-03-04T13:56:39.594967Z",
     "start_time": "2021-03-04T13:56:39.585219Z"
    }
   },
   "outputs": [
    {
     "data": {
      "text/plain": [
       "array([28., 32., 36., 40.])"
      ]
     },
     "execution_count": 221,
     "metadata": {},
     "output_type": "execute_result"
    }
   ],
   "source": [
    "np.sum(a, axis=0)"
   ]
  },
  {
   "cell_type": "code",
   "execution_count": 222,
   "metadata": {
    "ExecuteTime": {
     "end_time": "2021-03-04T13:57:00.640615Z",
     "start_time": "2021-03-04T13:57:00.630804Z"
    }
   },
   "outputs": [
    {
     "data": {
      "text/plain": [
       "array([10., 26., 42., 58.])"
      ]
     },
     "execution_count": 222,
     "metadata": {},
     "output_type": "execute_result"
    }
   ],
   "source": [
    "np.sum(a, axis=1)"
   ]
  },
  {
   "cell_type": "markdown",
   "metadata": {},
   "source": [
    "But beware of `nan`s, as they tend to destroy all math!"
   ]
  },
  {
   "cell_type": "code",
   "execution_count": 223,
   "metadata": {},
   "outputs": [
    {
     "data": {
      "text/plain": [
       "array([[ 1.,  2.,  3.,  4.],\n",
       "       [ 5.,  6.,  7.,  8.],\n",
       "       [ 9., 10., 11., 12.],\n",
       "       [13., 14., 15., 16.]])"
      ]
     },
     "execution_count": 223,
     "metadata": {},
     "output_type": "execute_result"
    }
   ],
   "source": [
    "a"
   ]
  },
  {
   "cell_type": "code",
   "execution_count": 224,
   "metadata": {
    "ExecuteTime": {
     "end_time": "2021-03-04T13:57:21.736012Z",
     "start_time": "2021-03-04T13:57:21.723411Z"
    }
   },
   "outputs": [],
   "source": [
    "a[2,2] = np.nan"
   ]
  },
  {
   "cell_type": "code",
   "execution_count": 225,
   "metadata": {},
   "outputs": [
    {
     "data": {
      "text/plain": [
       "nan"
      ]
     },
     "execution_count": 225,
     "metadata": {},
     "output_type": "execute_result"
    }
   ],
   "source": [
    "a.sum()"
   ]
  },
  {
   "cell_type": "code",
   "execution_count": 226,
   "metadata": {
    "ExecuteTime": {
     "end_time": "2021-03-04T13:57:41.411491Z",
     "start_time": "2021-03-04T13:57:41.397966Z"
    }
   },
   "outputs": [
    {
     "data": {
      "text/plain": [
       "array([ 1.,  2.,  3.,  4.,  5.,  6.,  7.,  8.,  9., 10., 12., 13., 14.,\n",
       "       15., 16.])"
      ]
     },
     "execution_count": 226,
     "metadata": {},
     "output_type": "execute_result"
    }
   ],
   "source": [
    "a[~np.isnan(a)]"
   ]
  },
  {
   "cell_type": "code",
   "execution_count": 227,
   "metadata": {
    "ExecuteTime": {
     "end_time": "2021-03-04T13:58:16.780516Z",
     "start_time": "2021-03-04T13:58:16.773134Z"
    }
   },
   "outputs": [
    {
     "data": {
      "text/plain": [
       "125.0"
      ]
     },
     "execution_count": 227,
     "metadata": {},
     "output_type": "execute_result"
    }
   ],
   "source": [
    "a[~np.isnan(a)].sum()"
   ]
  },
  {
   "cell_type": "code",
   "execution_count": 228,
   "metadata": {
    "ExecuteTime": {
     "end_time": "2021-03-04T01:47:25.545186Z",
     "start_time": "2021-03-04T01:47:25.541010Z"
    }
   },
   "outputs": [
    {
     "data": {
      "text/plain": [
       "125.0"
      ]
     },
     "execution_count": 228,
     "metadata": {},
     "output_type": "execute_result"
    }
   ],
   "source": [
    "np.sum(a, where=~np.isnan(a))"
   ]
  },
  {
   "cell_type": "code",
   "execution_count": 229,
   "metadata": {
    "ExecuteTime": {
     "end_time": "2021-03-04T13:58:38.027639Z",
     "start_time": "2021-03-04T13:58:38.020977Z"
    }
   },
   "outputs": [
    {
     "data": {
      "text/plain": [
       "125.0"
      ]
     },
     "execution_count": 229,
     "metadata": {},
     "output_type": "execute_result"
    }
   ],
   "source": [
    "np.nansum(a)"
   ]
  },
  {
   "cell_type": "code",
   "execution_count": 230,
   "metadata": {
    "ExecuteTime": {
     "end_time": "2021-03-04T01:47:49.661301Z",
     "start_time": "2021-03-04T01:47:49.657068Z"
    }
   },
   "outputs": [
    {
     "data": {
      "text/plain": [
       "125.0"
      ]
     },
     "execution_count": 230,
     "metadata": {},
     "output_type": "execute_result"
    }
   ],
   "source": [
    "np.sum(np.nan_to_num(a))"
   ]
  },
  {
   "cell_type": "markdown",
   "metadata": {
    "ExecuteTime": {
     "end_time": "2021-03-04T01:42:42.061430Z",
     "start_time": "2021-03-04T01:42:42.050688Z"
    }
   },
   "source": [
    "Let's see what else we can do with `nan`s"
   ]
  },
  {
   "cell_type": "code",
   "execution_count": 231,
   "metadata": {
    "ExecuteTime": {
     "end_time": "2021-03-04T13:59:12.944488Z",
     "start_time": "2021-03-04T13:59:12.939040Z"
    }
   },
   "outputs": [],
   "source": [
    "a[0,1] = np.nan\n",
    "a[1,3] = np.nan"
   ]
  },
  {
   "cell_type": "code",
   "execution_count": 232,
   "metadata": {
    "ExecuteTime": {
     "end_time": "2021-03-04T13:59:33.838490Z",
     "start_time": "2021-03-04T13:59:33.831079Z"
    }
   },
   "outputs": [
    {
     "data": {
      "text/plain": [
       "array([[False,  True, False, False],\n",
       "       [False, False, False,  True],\n",
       "       [False, False,  True, False],\n",
       "       [False, False, False, False]])"
      ]
     },
     "execution_count": 232,
     "metadata": {},
     "output_type": "execute_result"
    }
   ],
   "source": [
    "np.isnan(a)"
   ]
  },
  {
   "cell_type": "code",
   "execution_count": 233,
   "metadata": {
    "ExecuteTime": {
     "end_time": "2021-03-04T13:59:53.706363Z",
     "start_time": "2021-03-04T13:59:53.692944Z"
    }
   },
   "outputs": [
    {
     "data": {
      "text/plain": [
       "array([ True,  True,  True, False])"
      ]
     },
     "execution_count": 233,
     "metadata": {},
     "output_type": "execute_result"
    }
   ],
   "source": [
    "np.any(np.isnan(a), axis=1)"
   ]
  },
  {
   "cell_type": "code",
   "execution_count": 234,
   "metadata": {
    "ExecuteTime": {
     "end_time": "2021-03-04T01:49:01.901219Z",
     "start_time": "2021-03-04T01:49:01.890166Z"
    }
   },
   "outputs": [
    {
     "data": {
      "text/plain": [
       "array([[ 1., nan,  3.,  4.],\n",
       "       [ 5.,  6.,  7., nan],\n",
       "       [ 9., 10., nan, 12.]])"
      ]
     },
     "execution_count": 234,
     "metadata": {},
     "output_type": "execute_result"
    }
   ],
   "source": [
    "mask = np.any(np.isnan(a), axis=1)\n",
    "a[mask]"
   ]
  },
  {
   "cell_type": "markdown",
   "metadata": {},
   "source": [
    "## Concatenation & sorting\n",
    "\n",
    "Concatenation means joining two arrays by rows or by columns. An array may be concatenated with itself or with another array. There are 4 functions that help with concatenation."
   ]
  },
  {
   "cell_type": "code",
   "execution_count": 235,
   "metadata": {
    "ExecuteTime": {
     "end_time": "2021-03-04T14:00:20.888625Z",
     "start_time": "2021-03-04T14:00:20.882599Z"
    }
   },
   "outputs": [],
   "source": [
    "a = np.zeros(shape=(3,2))\n",
    "b = np.ones(shape=(2,2))"
   ]
  },
  {
   "cell_type": "code",
   "execution_count": 236,
   "metadata": {},
   "outputs": [
    {
     "data": {
      "text/plain": [
       "array([[0., 0.],\n",
       "       [0., 0.],\n",
       "       [0., 0.]])"
      ]
     },
     "execution_count": 236,
     "metadata": {},
     "output_type": "execute_result"
    }
   ],
   "source": [
    "a"
   ]
  },
  {
   "cell_type": "code",
   "execution_count": 237,
   "metadata": {},
   "outputs": [
    {
     "data": {
      "text/plain": [
       "array([[1., 1.],\n",
       "       [1., 1.]])"
      ]
     },
     "execution_count": 237,
     "metadata": {},
     "output_type": "execute_result"
    }
   ],
   "source": [
    "b"
   ]
  },
  {
   "cell_type": "code",
   "execution_count": 238,
   "metadata": {
    "ExecuteTime": {
     "end_time": "2021-03-04T14:01:03.119193Z",
     "start_time": "2021-03-04T14:01:03.111622Z"
    }
   },
   "outputs": [
    {
     "data": {
      "text/plain": [
       "array([[0., 0.],\n",
       "       [0., 0.],\n",
       "       [0., 0.],\n",
       "       [0., 0.],\n",
       "       [0., 0.],\n",
       "       [0., 0.],\n",
       "       [0., 0.],\n",
       "       [0., 0.],\n",
       "       [0., 0.],\n",
       "       [0., 0.],\n",
       "       [0., 0.],\n",
       "       [0., 0.]])"
      ]
     },
     "execution_count": 238,
     "metadata": {},
     "output_type": "execute_result"
    }
   ],
   "source": [
    "np.concatenate([a, a, a, a], axis=0)"
   ]
  },
  {
   "cell_type": "code",
   "execution_count": 239,
   "metadata": {
    "ExecuteTime": {
     "end_time": "2021-03-04T14:01:24.611639Z",
     "start_time": "2021-03-04T14:01:24.601800Z"
    }
   },
   "outputs": [
    {
     "data": {
      "text/plain": [
       "array([[0., 0.],\n",
       "       [0., 0.],\n",
       "       [0., 0.],\n",
       "       [1., 1.],\n",
       "       [1., 1.]])"
      ]
     },
     "execution_count": 239,
     "metadata": {},
     "output_type": "execute_result"
    }
   ],
   "source": [
    "np.concatenate([a, b], axis=0)"
   ]
  },
  {
   "cell_type": "code",
   "execution_count": 240,
   "metadata": {
    "ExecuteTime": {
     "end_time": "2021-03-04T14:01:45.184130Z",
     "start_time": "2021-03-04T14:01:45.176845Z"
    }
   },
   "outputs": [
    {
     "data": {
      "text/plain": [
       "array([[0., 0.],\n",
       "       [0., 0.],\n",
       "       [0., 0.],\n",
       "       [1., 1.],\n",
       "       [1., 1.]])"
      ]
     },
     "execution_count": 240,
     "metadata": {},
     "output_type": "execute_result"
    }
   ],
   "source": [
    "np.vstack([a,b])"
   ]
  },
  {
   "cell_type": "code",
   "execution_count": 241,
   "metadata": {
    "ExecuteTime": {
     "end_time": "2021-03-04T14:02:19.702880Z",
     "start_time": "2021-03-04T14:02:19.690719Z"
    }
   },
   "outputs": [
    {
     "data": {
      "text/plain": [
       "array([[0., 0., 0., 1., 1.],\n",
       "       [0., 0., 0., 1., 1.]])"
      ]
     },
     "execution_count": 241,
     "metadata": {},
     "output_type": "execute_result"
    }
   ],
   "source": [
    "np.hstack([a.T,b])"
   ]
  },
  {
   "cell_type": "code",
   "execution_count": 242,
   "metadata": {
    "ExecuteTime": {
     "end_time": "2021-03-04T14:02:40.021682Z",
     "start_time": "2021-03-04T14:02:40.012718Z"
    }
   },
   "outputs": [
    {
     "data": {
      "text/plain": [
       "array([[[0., 0.],\n",
       "        [0., 0.]],\n",
       "\n",
       "       [[1., 1.],\n",
       "        [1., 1.]]])"
      ]
     },
     "execution_count": 242,
     "metadata": {},
     "output_type": "execute_result"
    }
   ],
   "source": [
    "np.stack([a[:2,:2], b], axis=0)"
   ]
  },
  {
   "cell_type": "markdown",
   "metadata": {},
   "source": [
    "Unfortunately, `NumPy` does not provide any easy way of reverse sort, and sorting is limited to two functions."
   ]
  },
  {
   "cell_type": "code",
   "execution_count": 243,
   "metadata": {
    "ExecuteTime": {
     "end_time": "2021-03-04T14:02:59.926226Z",
     "start_time": "2021-03-04T14:02:59.915083Z"
    }
   },
   "outputs": [
    {
     "data": {
      "text/plain": [
       "array([ 2, 89, 76, 36, 45,  9, 46, 50, 83, 29, 63, 81, 42, 76, 31, 52, 45,\n",
       "       93, 22, 30, 77, 11, 30, 55, 94, 68, 62,  9, 58, 92, 77, 43,  7, 86,\n",
       "       87, 93, 54, 48, 58, 10, 88, 43, 35, 57, 28, 88, 73, 69, 47, 38])"
      ]
     },
     "execution_count": 243,
     "metadata": {},
     "output_type": "execute_result"
    }
   ],
   "source": [
    "a = np.random.randint(1, 100, size=50)\n",
    "a"
   ]
  },
  {
   "cell_type": "code",
   "execution_count": 244,
   "metadata": {
    "ExecuteTime": {
     "end_time": "2021-03-04T14:03:21.860268Z",
     "start_time": "2021-03-04T14:03:21.852152Z"
    }
   },
   "outputs": [],
   "source": [
    "a.sort()"
   ]
  },
  {
   "cell_type": "code",
   "execution_count": 245,
   "metadata": {
    "ExecuteTime": {
     "end_time": "2021-03-04T14:03:42.783979Z",
     "start_time": "2021-03-04T14:03:42.777811Z"
    }
   },
   "outputs": [
    {
     "data": {
      "text/plain": [
       "array([94, 93, 93, 92, 89, 88, 88, 87, 86, 83, 81, 77, 77, 76, 76, 73, 69,\n",
       "       68, 63, 62, 58, 58, 57, 55, 54, 52, 50, 48, 47, 46, 45, 45, 43, 43,\n",
       "       42, 38, 36, 35, 31, 30, 30, 29, 28, 22, 11, 10,  9,  9,  7,  2])"
      ]
     },
     "execution_count": 245,
     "metadata": {},
     "output_type": "execute_result"
    }
   ],
   "source": [
    "a[::-1]"
   ]
  },
  {
   "cell_type": "code",
   "execution_count": 246,
   "metadata": {
    "ExecuteTime": {
     "end_time": "2021-03-04T14:04:04.088452Z",
     "start_time": "2021-03-04T14:04:04.082647Z"
    }
   },
   "outputs": [
    {
     "data": {
      "text/plain": [
       "array([94, 93, 93, 92, 89, 88, 88, 87, 86, 83, 81, 77, 77, 76, 76, 73, 69,\n",
       "       68, 63, 62, 58, 58, 57, 55, 54, 52, 50, 48, 47, 46, 45, 45, 43, 43,\n",
       "       42, 38, 36, 35, 31, 30, 30, 29, 28, 22, 11, 10,  9,  9,  7,  2])"
      ]
     },
     "execution_count": 246,
     "metadata": {},
     "output_type": "execute_result"
    }
   ],
   "source": [
    "np.sort(a)[::-1]"
   ]
  },
  {
   "cell_type": "markdown",
   "metadata": {},
   "source": [
    "If you want to be able to sort values in the first column of an array according to the order in the second column of an array, you need to use `np.argsort`."
   ]
  },
  {
   "cell_type": "code",
   "execution_count": 247,
   "metadata": {
    "ExecuteTime": {
     "end_time": "2021-03-04T02:12:52.520705Z",
     "start_time": "2021-03-04T02:12:52.510136Z"
    }
   },
   "outputs": [
    {
     "name": "stdout",
     "output_type": "stream",
     "text": [
      "[[25 33 78 89]\n",
      " [84 92 16 40]\n",
      " [67 49 33 36]\n",
      " [27  7 45 48]\n",
      " [ 2 88 55  5]]\n"
     ]
    }
   ],
   "source": [
    "a = np.random.randint(1, 100, size=20)\n",
    "a.shape = 5,4\n",
    "\n",
    "print(a)"
   ]
  },
  {
   "cell_type": "code",
   "execution_count": 248,
   "metadata": {
    "ExecuteTime": {
     "end_time": "2021-03-04T02:04:49.330043Z",
     "start_time": "2021-03-04T02:04:49.322913Z"
    }
   },
   "outputs": [
    {
     "data": {
      "text/plain": [
       "array([[ 2,  7, 16,  5],\n",
       "       [25, 33, 33, 36],\n",
       "       [27, 49, 45, 40],\n",
       "       [67, 88, 55, 48],\n",
       "       [84, 92, 78, 89]])"
      ]
     },
     "execution_count": 248,
     "metadata": {},
     "output_type": "execute_result"
    }
   ],
   "source": [
    "np.sort(a, axis=0)"
   ]
  },
  {
   "cell_type": "code",
   "execution_count": 249,
   "metadata": {
    "ExecuteTime": {
     "end_time": "2021-03-04T02:13:03.936412Z",
     "start_time": "2021-03-04T02:13:03.933382Z"
    }
   },
   "outputs": [
    {
     "data": {
      "text/plain": [
       "array([[25, 33, 78, 89],\n",
       "       [84, 92, 16, 40],\n",
       "       [67, 49, 33, 36],\n",
       "       [27,  7, 45, 48],\n",
       "       [ 2, 88, 55,  5]])"
      ]
     },
     "execution_count": 249,
     "metadata": {},
     "output_type": "execute_result"
    }
   ],
   "source": [
    "a"
   ]
  },
  {
   "cell_type": "code",
   "execution_count": 250,
   "metadata": {
    "ExecuteTime": {
     "end_time": "2021-03-04T02:17:19.282624Z",
     "start_time": "2021-03-04T02:17:19.270150Z"
    }
   },
   "outputs": [
    {
     "data": {
      "text/plain": [
       "array([[84, 92, 16, 40],\n",
       "       [67, 49, 33, 36],\n",
       "       [27,  7, 45, 48],\n",
       "       [ 2, 88, 55,  5],\n",
       "       [25, 33, 78, 89]])"
      ]
     },
     "execution_count": 250,
     "metadata": {},
     "output_type": "execute_result"
    }
   ],
   "source": [
    "a[np.argsort(a[:,2])]"
   ]
  },
  {
   "cell_type": "code",
   "execution_count": null,
   "metadata": {},
   "outputs": [],
   "source": []
  }
 ],
 "metadata": {
  "kernelspec": {
   "display_name": "Python 3 (ipykernel)",
   "language": "python",
   "name": "python3"
  },
  "language_info": {
   "codemirror_mode": {
    "name": "ipython",
    "version": 3
   },
   "file_extension": ".py",
   "mimetype": "text/x-python",
   "name": "python",
   "nbconvert_exporter": "python",
   "pygments_lexer": "ipython3",
   "version": "3.12.2"
  },
  "toc": {
   "base_numbering": 1,
   "nav_menu": {},
   "number_sections": true,
   "sideBar": true,
   "skip_h1_title": false,
   "title_cell": "Table of Contents",
   "title_sidebar": "Contents",
   "toc_cell": false,
   "toc_position": {},
   "toc_section_display": true,
   "toc_window_display": false
  },
  "varInspector": {
   "cols": {
    "lenName": 16,
    "lenType": 16,
    "lenVar": 40
   },
   "kernels_config": {
    "python": {
     "delete_cmd_postfix": "",
     "delete_cmd_prefix": "del ",
     "library": "var_list.py",
     "varRefreshCmd": "print(var_dic_list())"
    },
    "r": {
     "delete_cmd_postfix": ") ",
     "delete_cmd_prefix": "rm(",
     "library": "var_list.r",
     "varRefreshCmd": "cat(var_dic_list()) "
    }
   },
   "types_to_exclude": [
    "module",
    "function",
    "builtin_function_or_method",
    "instance",
    "_Feature"
   ],
   "window_display": false
  }
 },
 "nbformat": 4,
 "nbformat_minor": 4
}
