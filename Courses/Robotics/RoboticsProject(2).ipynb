{
  "cells": [
    {
      "cell_type": "markdown",
      "source": [
        "##1. Install and import needed stuff"
      ],
      "metadata": {
        "id": "cPpk4q_9JVdX"
      }
    },
    {
      "cell_type": "code",
      "execution_count": null,
      "metadata": {
        "id": "ZzVOJFzB2x9Q"
      },
      "outputs": [],
      "source": [
        "!pip install onnx\n",
        "!pip install tf2onnx"
      ]
    },
    {
      "cell_type": "code",
      "execution_count": null,
      "metadata": {
        "id": "doUBKrEaFh7y"
      },
      "outputs": [],
      "source": [
        "!wget https://chmura.put.poznan.pl/s/LxYSsota5PCbXcU/download\n",
        "!unzip download"
      ]
    },
    {
      "cell_type": "code",
      "execution_count": 3,
      "metadata": {
        "id": "DDPNjblU2Myl"
      },
      "outputs": [],
      "source": [
        "import os\n",
        "import csv\n",
        "import cv2\n",
        "import numpy as np\n",
        "import tensorflow as tf\n",
        "from sklearn.model_selection import train_test_split\n",
        "from keras.models import Sequential\n",
        "from keras.layers import Conv2D, MaxPooling2D, Flatten, Dense\n",
        "from keras.optimizers import Adam\n",
        "import tf2onnx\n",
        "import onnx\n",
        "from random import shuffle\n",
        "from google.colab import drive"
      ]
    },
    {
      "cell_type": "markdown",
      "source": [
        "## 2. Load Dataset"
      ],
      "metadata": {
        "id": "Jfa6Mkg6JgX7"
      }
    },
    {
      "cell_type": "code",
      "source": [
        "drive.mount('/content/gdrive')"
      ],
      "metadata": {
        "id": "jphIf_3uQ-Ro"
      },
      "execution_count": null,
      "outputs": []
    },
    {
      "cell_type": "code",
      "execution_count": 4,
      "metadata": {
        "id": "1X8JWSCr2PY4"
      },
      "outputs": [],
      "source": [
        "def load_dataset(directory):\n",
        "    images = []\n",
        "    labels = []\n",
        "\n",
        "    for folder_name in os.listdir(directory):\n",
        "        folder_path = os.path.join(directory, folder_name)\n",
        "        if not os.path.isdir(folder_path):\n",
        "            continue\n",
        "\n",
        "        csv_path = os.path.join(directory, f\"{folder_name}.csv\")\n",
        "        with open(csv_path, 'r') as csv_file:\n",
        "            csv_reader = csv.reader(csv_file)\n",
        "            next(csv_reader)  # Skip header row\n",
        "            for row in csv_reader:\n",
        "                image_path = os.path.join(folder_path, f\"{row[0]:0>4}.jpg\")\n",
        "                image = cv2.imread(image_path)\n",
        "                image = cv2.cvtColor(image, cv2.COLOR_BGR2RGB)\n",
        "                #image = cv2.resize(image, (56, 56))\n",
        "                #image = np.transpose(image, (2, 0, 1))\n",
        "                images.append(image)\n",
        "                labels.append([float(row[1]), float(row[2])])\n",
        "\n",
        "    return np.array(images), np.array(labels)"
      ]
    },
    {
      "cell_type": "code",
      "execution_count": 5,
      "metadata": {
        "id": "qRbae7OY2RZI"
      },
      "outputs": [],
      "source": [
        "def preprocess_dataset(images, labels):\n",
        "    images = np.array(images, dtype=np.float32) / 255.0\n",
        "    labels = labels\n",
        "    return images, labels"
      ]
    },
    {
      "cell_type": "code",
      "execution_count": null,
      "metadata": {
        "id": "ETRqlrie2Tjd"
      },
      "outputs": [],
      "source": [
        "dataset_directory = \"/content/dataset\"\n",
        "images, labels = load_dataset(dataset_directory)\n",
        "images, labels = preprocess_dataset(images, labels)"
      ]
    },
    {
      "cell_type": "code",
      "source": [
        "ind_list = [i for i in range(len(images))]\n",
        "shuffle(ind_list)\n",
        "images  = images[ind_list, :,:,:]\n",
        "labels = labels[ind_list, :]"
      ],
      "metadata": {
        "id": "0_hRc8o5HZVI"
      },
      "execution_count": null,
      "outputs": []
    },
    {
      "cell_type": "code",
      "source": [
        "images = images[:1000]\n",
        "labels = labels[:1000]"
      ],
      "metadata": {
        "id": "GCe9J0xDHkjh"
      },
      "execution_count": null,
      "outputs": []
    },
    {
      "cell_type": "markdown",
      "source": [
        "## 3. Data Augmentation"
      ],
      "metadata": {
        "id": "uWi9LVYFJy1Q"
      }
    },
    {
      "cell_type": "code",
      "source": [
        "import matplotlib as plt\n",
        "import matplotlib.pyplot as plot\n",
        "import random"
      ],
      "metadata": {
        "id": "rLGnHGw5JyIi"
      },
      "execution_count": null,
      "outputs": []
    },
    {
      "cell_type": "code",
      "source": [
        "if 'google.colab' in str(get_ipython()):\n",
        "  from google.colab.patches import cv2_imshow\n",
        "  imshow = cv2_imshow\n",
        "else:\n",
        "  imshow = cv2.imshow"
      ],
      "metadata": {
        "id": "sAbP9cA4KWTF"
      },
      "execution_count": null,
      "outputs": []
    },
    {
      "cell_type": "code",
      "source": [
        "def show_img(img):\n",
        "    plot.axis(\"off\")\n",
        "    plot.imshow(cv2.cvtColor(img, cv2.COLOR_BGR2RGB))\n",
        "    plot.show()"
      ],
      "metadata": {
        "id": "VVLnimFUKXql"
      },
      "execution_count": null,
      "outputs": []
    },
    {
      "cell_type": "code",
      "source": [
        "def gamma(i, g):\n",
        "    return i ** g"
      ],
      "metadata": {
        "id": "Ma82Fv-XKZkQ"
      },
      "execution_count": null,
      "outputs": []
    },
    {
      "cell_type": "code",
      "source": [
        "images = [gamma(img, random.uniform(0.25, 1.75)) for img in images]"
      ],
      "metadata": {
        "id": "GsF3tYMFKg1l"
      },
      "execution_count": null,
      "outputs": []
    },
    {
      "cell_type": "code",
      "source": [
        "show_img(images[0])"
      ],
      "metadata": {
        "id": "Yxvq-k0VKf8r"
      },
      "execution_count": null,
      "outputs": []
    },
    {
      "cell_type": "markdown",
      "source": [
        "## 4. Train/Test/Val Split\n"
      ],
      "metadata": {
        "id": "Q2LB0tYLJ5Y6"
      }
    },
    {
      "cell_type": "code",
      "execution_count": null,
      "metadata": {
        "id": "KnaRAIF62WC_"
      },
      "outputs": [],
      "source": [
        "train_images, val_images, train_labels, val_labels = train_test_split(\n",
        "    images, labels, test_size=0.2, random_state=42)"
      ]
    },
    {
      "cell_type": "markdown",
      "source": [
        "## 5. Create and Train Model"
      ],
      "metadata": {
        "id": "9I-sObLQKByJ"
      }
    },
    {
      "cell_type": "code",
      "source": [
        "model = Sequential()\n",
        "model.add(Conv2D(8, (3, 3), activation='relu', input_shape=(224, 224, 3)))\n",
        "model.add(MaxPooling2D(pool_size=(2, 2)))\n",
        "model.add(Conv2D(16, (3, 3), activation='relu'))\n",
        "model.add(MaxPooling2D(pool_size=(2, 2)))\n",
        "model.add(Flatten())\n",
        "model.add(Dense(16, activation='relu'))\n",
        "model.add(Dense(2, activation='tanh'))"
      ],
      "metadata": {
        "id": "3MIL-G80Z6a7"
      },
      "execution_count": null,
      "outputs": []
    },
    {
      "cell_type": "code",
      "execution_count": null,
      "metadata": {
        "id": "jRsE2yYf2bAE"
      },
      "outputs": [],
      "source": [
        "model.compile(optimizer=Adam(), metrics = [tf.keras.metrics.Accuracy()], loss='mean_absolute_error')"
      ]
    },
    {
      "cell_type": "code",
      "source": [
        "EPOCHS = 10\n",
        "checkpoint_filepath = \"/content/gdrive/MyDrive/roboticsII\"\n",
        "model_checkpoint_callback = tf.keras.callbacks.ModelCheckpoint(\n",
        "    filepath=checkpoint_filepath,\n",
        "    save_weights_only=True,\n",
        "    monitor='val_accuracy',\n",
        "    mode='max',\n",
        "    save_best_only=True)\n",
        "\n",
        "#model.load_weights(checkpoint_filepath)"
      ],
      "metadata": {
        "id": "xwtS_Wo0RIUJ"
      },
      "execution_count": null,
      "outputs": []
    },
    {
      "cell_type": "code",
      "source": [
        "model.fit(train_images, train_labels, batch_size=32, epochs=EPOCHS, validation_data=(val_images, val_labels), callbacks = [model_checkpoint_callback])"
      ],
      "metadata": {
        "colab": {
          "base_uri": "https://localhost:8080/"
        },
        "id": "TKbAQm8pRLwd",
        "outputId": "73bdfca7-f6a1-4b6f-db46-abb4e6fce9c5"
      },
      "execution_count": null,
      "outputs": [
        {
          "output_type": "stream",
          "name": "stdout",
          "text": [
            "Epoch 1/10\n",
            "25/25 [==============================] - 16s 626ms/step - loss: 0.5773 - accuracy: 0.2956 - val_loss: 0.5651 - val_accuracy: 0.3250\n",
            "Epoch 2/10\n",
            "25/25 [==============================] - 17s 677ms/step - loss: 0.5768 - accuracy: 0.3113 - val_loss: 0.5651 - val_accuracy: 0.3250\n",
            "Epoch 3/10\n",
            "25/25 [==============================] - 16s 633ms/step - loss: 0.5768 - accuracy: 0.3113 - val_loss: 0.5651 - val_accuracy: 0.3250\n",
            "Epoch 4/10\n",
            "25/25 [==============================] - 16s 627ms/step - loss: 0.5768 - accuracy: 0.3113 - val_loss: 0.5651 - val_accuracy: 0.3250\n",
            "Epoch 5/10\n",
            "25/25 [==============================] - 16s 632ms/step - loss: 0.5768 - accuracy: 0.3113 - val_loss: 0.5651 - val_accuracy: 0.3250\n",
            "Epoch 6/10\n",
            "25/25 [==============================] - 17s 667ms/step - loss: 0.5768 - accuracy: 0.3113 - val_loss: 0.5651 - val_accuracy: 0.3250\n",
            "Epoch 7/10\n",
            "25/25 [==============================] - 15s 617ms/step - loss: 0.5768 - accuracy: 0.3113 - val_loss: 0.5651 - val_accuracy: 0.3250\n",
            "Epoch 8/10\n",
            "25/25 [==============================] - 15s 587ms/step - loss: 0.5768 - accuracy: 0.3113 - val_loss: 0.5651 - val_accuracy: 0.3250\n",
            "Epoch 9/10\n",
            "25/25 [==============================] - 15s 611ms/step - loss: 0.5768 - accuracy: 0.3113 - val_loss: 0.5651 - val_accuracy: 0.3250\n",
            "Epoch 10/10\n",
            "25/25 [==============================] - 15s 588ms/step - loss: 0.5768 - accuracy: 0.3113 - val_loss: 0.5651 - val_accuracy: 0.3250\n"
          ]
        },
        {
          "output_type": "execute_result",
          "data": {
            "text/plain": [
              "<keras.callbacks.History at 0x7f0bf2042290>"
            ]
          },
          "metadata": {},
          "execution_count": 59
        }
      ]
    },
    {
      "cell_type": "code",
      "execution_count": null,
      "metadata": {
        "id": "IosidJRA2d2q"
      },
      "outputs": [],
      "source": [
        "#model.fit(train_images, train_labels, batch_size=32, epochs=10, validation_data=(val_images, val_labels))"
      ]
    },
    {
      "cell_type": "code",
      "source": [
        "spec = (tf.TensorSpec((None, 224, 224, 3), tf.float32, name=\"input\"),)\n",
        "model_proto, _ = tf2onnx.convert.from_keras(model, input_signature=spec, opset=11, output_path=\"/content/model.onnx\")"
      ],
      "metadata": {
        "id": "XjUPCOUNAxAm"
      },
      "execution_count": null,
      "outputs": []
    },
    {
      "cell_type": "markdown",
      "source": [
        "## 6. Make prediction"
      ],
      "metadata": {
        "id": "Q4HQr9SJKJE0"
      }
    },
    {
      "cell_type": "code",
      "source": [
        "prediction = model.predict(val_images)\n",
        "print(prediction[:5])\n",
        "print(val_labels[:5])"
      ],
      "metadata": {
        "colab": {
          "base_uri": "https://localhost:8080/"
        },
        "id": "e7sBE4XsN5oe",
        "outputId": "d28bdf71-1466-4f8b-e95b-d35117d9dfcd"
      },
      "execution_count": null,
      "outputs": [
        {
          "output_type": "stream",
          "name": "stdout",
          "text": [
            "7/7 [==============================] - 2s 262ms/step\n",
            "[[ 1. -1.]\n",
            " [ 1. -1.]\n",
            " [ 1. -1.]\n",
            " [ 1. -1.]\n",
            " [ 1. -1.]]\n",
            "[[0.75      0.9921875]\n",
            " [0.6875    0.       ]\n",
            " [1.        0.       ]\n",
            " [1.        0.       ]\n",
            " [1.        0.       ]]\n"
          ]
        }
      ]
    },
    {
      "cell_type": "code",
      "source": [
        "print(prediction.max())\n",
        "print(prediction.min())"
      ],
      "metadata": {
        "colab": {
          "base_uri": "https://localhost:8080/"
        },
        "id": "L5-h6XmpKAjk",
        "outputId": "9f34ebf0-ed33-4a46-b1f9-a769416f032f"
      },
      "execution_count": null,
      "outputs": [
        {
          "output_type": "stream",
          "name": "stdout",
          "text": [
            "1.0\n",
            "-1.0\n"
          ]
        }
      ]
    },
    {
      "cell_type": "code",
      "source": [
        "model.summary()"
      ],
      "metadata": {
        "colab": {
          "base_uri": "https://localhost:8080/"
        },
        "id": "_JT1cvriEIqt",
        "outputId": "4037a53c-f83e-4572-eeca-2753799efdb9"
      },
      "execution_count": null,
      "outputs": [
        {
          "output_type": "stream",
          "name": "stdout",
          "text": [
            "Model: \"sequential_6\"\n",
            "_________________________________________________________________\n",
            " Layer (type)                Output Shape              Param #   \n",
            "=================================================================\n",
            " conv2d_10 (Conv2D)          (None, 222, 222, 8)       224       \n",
            "                                                                 \n",
            " max_pooling2d_10 (MaxPoolin  (None, 111, 111, 8)      0         \n",
            " g2D)                                                            \n",
            "                                                                 \n",
            " conv2d_11 (Conv2D)          (None, 109, 109, 16)      1168      \n",
            "                                                                 \n",
            " max_pooling2d_11 (MaxPoolin  (None, 54, 54, 16)       0         \n",
            " g2D)                                                            \n",
            "                                                                 \n",
            " flatten_5 (Flatten)         (None, 46656)             0         \n",
            "                                                                 \n",
            " dense_12 (Dense)            (None, 16)                746512    \n",
            "                                                                 \n",
            " dense_13 (Dense)            (None, 2)                 34        \n",
            "                                                                 \n",
            "=================================================================\n",
            "Total params: 747,938\n",
            "Trainable params: 747,938\n",
            "Non-trainable params: 0\n",
            "_________________________________________________________________\n"
          ]
        }
      ]
    },
    {
      "cell_type": "code",
      "source": [],
      "metadata": {
        "id": "2N1ct4h6J5Iw"
      },
      "execution_count": null,
      "outputs": []
    }
  ],
  "metadata": {
    "colab": {
      "provenance": []
    },
    "kernelspec": {
      "display_name": "Python 3",
      "name": "python3"
    },
    "language_info": {
      "name": "python"
    }
  },
  "nbformat": 4,
  "nbformat_minor": 0
}