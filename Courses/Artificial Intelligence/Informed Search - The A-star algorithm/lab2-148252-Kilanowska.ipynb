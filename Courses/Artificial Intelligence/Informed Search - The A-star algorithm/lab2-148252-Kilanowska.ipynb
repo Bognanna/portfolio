{
 "cells": [
  {
   "cell_type": "markdown",
   "metadata": {},
   "source": [
    "# Informed search - the A* algorithm"
   ]
  },
  {
   "cell_type": "markdown",
   "metadata": {},
   "source": [
    "Depth-first search and breadth-first search considered in the previous lesson are completely *blind* algorithms: they're only concerned whether the currently considered state is a goal state or not. They're unable to distinguish whether a state is easy or hard to reach, or whether it is near or far of the goal. This makes them very inefficient search algorithms. To allievate the issue, we introduce informed search algorithms. The information is given to an algorithm in two ways:\n",
    "\n",
    "1. By using an *action cost* function $c(s,a)$, which, given a state $s$ and an action $a$ available in this state, returns its cost as a non-negative number.\n",
    "2. By using a *heuristic* $h(s)$, which, given a state, estimates the lowest cost to reach a goal state from the given state.\n",
    "\n",
    "Given a sequence of actions $a_1, \\ldots, a_n$ and an initial state $s_1$, we can express the *total cost* of reaching the state $s_{n+1}$ by executing the sequence as:\n",
    "$$ c(s_1, a_1, \\ldots, a_{n-1}) = \\sum_{i=1}^n c(s_i, a_i) $$\n",
    "and the *expected cost* of the solution as the sum of the total cost and the estimate cost of reaching the goal from the state $s_{n+1}$\n",
    "$$ f(s_1, a_1, \\ldots, a_n) = c(s_1, a_1, \\ldots, a_n) + h(s_{n+1}) $$\n",
    "\n",
    "The heuristic function is a bit tricky, because we want it to have two properties:\n",
    "* *Admissibility*: It must never *overestimate* the true cost of reaching the goal. \n",
    "* *Consistency*: Let $s$ be a state such that $a$ is an available action in this state and $s'$ is the state reached by executing this action. The heuristic should fulfil triangle inequality, that is, the estimated cost to reach the goal from $s$ should be no greater than the cost of executing the action $a$ + the estimated cost of reaching the goal from the new state.\n",
    "$$ h(s) \\leq c(s, a) + h(s') $$\n",
    "\n",
    "One can prove that admissibility follows from consistency, but consistency is important only if there are multiple paths to reach the same state (i.e., we are searching in a graph, not in a tree). Otherwise, admissability is sufficient."
   ]
  },
  {
   "cell_type": "markdown",
   "metadata": {},
   "source": [
    "Lets extend the class `Problem` from the previous lesson with two new functions `action_cost` and `heuristic`, which correspond to the functions $c(s,a)$ and $h(s)$ described above."
   ]
  },
  {
   "cell_type": "code",
   "execution_count": 62,
   "metadata": {},
   "outputs": [],
   "source": [
    "class Problem:\n",
    "    @property\n",
    "    def initial_state(self):\n",
    "        ...\n",
    "        \n",
    "    def available_actions(self, state):\n",
    "        ...        \n",
    "        \n",
    "    def do_action(self, state, action):\n",
    "        ...\n",
    "        return new_state\n",
    "    \n",
    "    def is_goal(self, state) -> bool:\n",
    "        ...\n",
    "        \n",
    "    def action_cost(self, state, action) -> float:\n",
    "        ...\n",
    "        \n",
    "    def heuristic(self, state) -> float:\n",
    "        ..."
   ]
  },
  {
   "cell_type": "markdown",
   "metadata": {},
   "source": [
    "To make a concrete example, lets revisit the vacuum world. \n",
    "\n",
    "![](aima-images/fig2_2.png)\n",
    "\n",
    "Below, we assume a very simple model:\n",
    "* Any action costs 1. This corresponds to searching for the shortest plan.\n",
    "* The heuristic estimation is the number of fields which are still dirty. \n",
    "\n",
    "\n",
    "Lets consider the properties of the heuristic:\n",
    "* Is is admissible? The heuristic value is equal to the number of 'Suck' actions that are yet to be executed and ignores the spatial aspect (i.e., moving between the rooms), thus never overestimating.\n",
    "* Is it consistent? As a consequence of a single action the heuristic value can decrease by at most 1 (if the action happens to be 'Suck' and the room is dirty). The cost of any action is 1, so rewriting the triangle inequality we arrive at:\n",
    "$$ h(s) \\leq c(s, a) + h(s') = \\begin{cases} 1 + (h(s)-1) & a=\\text{'Suck' and the room was dirty} \\\\ 1 + h(s) & \\text{otherwise} \\end{cases} $$\n",
    "* Is it the best we could have? By no means! We could include the spatial aspect."
   ]
  },
  {
   "cell_type": "code",
   "execution_count": 63,
   "metadata": {},
   "outputs": [],
   "source": [
    "class VacuumProblem(Problem):\n",
    "    @property\n",
    "    def initial_state(self):\n",
    "        return (0, (True, True))\n",
    "    \n",
    "    def available_actions(self, state):\n",
    "        return [\"Left\", \"Suck\", \"Right\"]\n",
    "        \n",
    "    def do_action(self, state, action):\n",
    "        robot, dirty = state\n",
    "        if action == \"Left\":\n",
    "            return (max(robot-1, 0), dirty)\n",
    "        elif action == \"Suck\":\n",
    "            new_dirty = list(dirty)\n",
    "            new_dirty[robot] = False\n",
    "            return (robot, tuple(new_dirty))\n",
    "        elif action == \"Right\":\n",
    "            return (min(robot+1, len(dirty)-1), dirty)        \n",
    "        raise Exception('Invalid action')\n",
    "    \n",
    "    def is_goal(self, state) -> bool:\n",
    "        return not any(state[1])\n",
    "    \n",
    "    def action_cost(self, state, action):\n",
    "        return 1\n",
    "    \n",
    "    def heuristic(self, state):\n",
    "        return sum(state[1])"
   ]
  },
  {
   "cell_type": "markdown",
   "metadata": {},
   "source": [
    "## Task 1: Implement the A* algorithm\n",
    "\n",
    "To implement the A* algorithm you must have a priority queue. Luckily, Python comes with one, so you don't need to implement it by yourself. Then, the algorithm is very simple: \n",
    "1. Start with a queue containing a single item - the initial state\n",
    "2. Repeat until the queue is not empty:\n",
    "  1. Pick an item with the lowest expected cost\n",
    "  2. If this is the goal, return the sequence of actions necessary to reach this state\n",
    "  3. Otherwise, for each available action, create a new entry in the queue corresponding to the state reached after executing the action.\n",
    "  \n",
    "Guard the algorithm against infinite loops: if you already visited a state, you don't need to visit it again (if your heuristic is consistent).\n",
    "\n",
    "In the cell below implement the algorithm in a similar manner as the BFS and DFS in the previous lesson: the sole argument is an object of the class Problem and the function should return a list of actions to achieve a goal state from the initial state.\n",
    "If it is impossible to reach the goal, return `None`.\n",
    "Count the number of states visited during the search and print in out before returning from the function, it will be useful later on to compare different heuristics."
   ]
  },
  {
   "cell_type": "code",
   "execution_count": 64,
   "metadata": {},
   "outputs": [],
   "source": [
    "import queue\n",
    "\n",
    "def astar(problem: Problem):\n",
    "    pQueue = queue.PriorityQueue()\n",
    "    state = problem.initial_state\n",
    "    g = 0 #cost_so_far\n",
    "    h = problem.heuristic(state)\n",
    "    pQueue.put((g + h, g, state, []))\n",
    "    visited = set()\n",
    "    no_states = 1\n",
    "    list_of_actions = []\n",
    "    actions = problem.available_actions(state)\n",
    "    while not pQueue.empty():\n",
    "        ex, cost_so_far, item, list_of_actions = pQueue.get()\n",
    "        no_states += 1\n",
    "        \n",
    "        if problem.is_goal(item):\n",
    "            print(no_states)\n",
    "            return list_of_actions\n",
    "        \n",
    "        for i in actions:\n",
    "            new_item = problem.do_action(item, i)\n",
    "            if new_item not in visited:\n",
    "                cost_so_far += problem.action_cost(item, i)\n",
    "                h = problem.heuristic(new_item)\n",
    "                pQueue.put((cost_so_far + h, cost_so_far, new_item, list_of_actions+[i]))\n",
    "                visited.add(new_item)\n",
    "    return None"
   ]
  },
  {
   "cell_type": "markdown",
   "metadata": {},
   "source": [
    "Now lets test your code in the vacuum world!"
   ]
  },
  {
   "cell_type": "code",
   "execution_count": 65,
   "metadata": {},
   "outputs": [
    {
     "name": "stdout",
     "output_type": "stream",
     "text": [
      "6\n"
     ]
    },
    {
     "data": {
      "text/plain": [
       "['Suck', 'Right', 'Suck']"
      ]
     },
     "execution_count": 65,
     "metadata": {},
     "output_type": "execute_result"
    }
   ],
   "source": [
    "astar(VacuumProblem())"
   ]
  },
  {
   "cell_type": "markdown",
   "metadata": {},
   "source": [
    "## Task 2: Variants of the vacuum world\n",
    "\n",
    "Now lets consider a different take on the vacuum world in which the heuristic is not admissible and increases as the number of dirty fields decreases."
   ]
  },
  {
   "cell_type": "code",
   "execution_count": 66,
   "metadata": {},
   "outputs": [
    {
     "name": "stdout",
     "output_type": "stream",
     "text": [
      "8\n"
     ]
    },
    {
     "data": {
      "text/plain": [
       "['Suck', 'Right', 'Suck']"
      ]
     },
     "execution_count": 66,
     "metadata": {},
     "output_type": "execute_result"
    }
   ],
   "source": [
    "class VacuumProblem1(VacuumProblem):\n",
    "    def action_cost(self, state, action):\n",
    "        return 1\n",
    "    \n",
    "    def heuristic(self, state):\n",
    "        return len(state[1]) - sum(state[1])\n",
    "    \n",
    "astar(VacuumProblem1())"
   ]
  },
  {
   "cell_type": "markdown",
   "metadata": {},
   "source": [
    "And another in which heuristic grossly overestimates the cost."
   ]
  },
  {
   "cell_type": "code",
   "execution_count": 67,
   "metadata": {},
   "outputs": [
    {
     "name": "stdout",
     "output_type": "stream",
     "text": [
      "5\n"
     ]
    },
    {
     "data": {
      "text/plain": [
       "['Suck', 'Right', 'Suck']"
      ]
     },
     "execution_count": 67,
     "metadata": {},
     "output_type": "execute_result"
    }
   ],
   "source": [
    "class VacuumProblem2(VacuumProblem):\n",
    "    def action_cost(self, state, action):\n",
    "        return 1\n",
    "    \n",
    "    def heuristic(self, state):\n",
    "        return 10 * sum(state[1])\n",
    "    \n",
    "astar(VacuumProblem2())"
   ]
  },
  {
   "cell_type": "markdown",
   "metadata": {},
   "source": [
    "**Which of the three heuristic functions (`VacuumProblem`, `VacuumProblem1`, `VacuumProblem2`) is the best? Is it the expected answer given the properties of the heuristics? If not, explain why an unorthodox approach works better.**"
   ]
  },
  {
   "cell_type": "markdown",
   "metadata": {},
   "source": [
    "The best is the VacuumProblem2, which visits only 5 states. At the first moment, I didn't expect such a result, because this way of finding the solution isn't admissible. Nevertheless, when I have thought about it for a longer time I realize that it has sense. The VacuumProblem2 heuristic makes a huge penalty for not sucking the dirt if the room is dirty. Therefore, in the priority queue all the states which are not accessing by sucking, are at the end of the queue, which forced the algorithm to do action suck whenever the vacuum cleaner is in the dirty room. The strategy to suck dirt every time it is possible is the best for this problem."
   ]
  },
  {
   "cell_type": "markdown",
   "metadata": {},
   "source": [
    "## Task 3: 8-puzzle problem\n",
    "\n",
    "Recall the 8-puzzle problem from the previous lesson. Reuse your code and implement an extended version assuming that each action costs 1. Propose 3 (at least) admissible heuristics. This time don't change the initial state, your solution should be capable enough to solve this.\n",
    "\n",
    "![](aima-images/fig3_4.png)"
   ]
  },
  {
   "cell_type": "code",
   "execution_count": 68,
   "metadata": {},
   "outputs": [],
   "source": [
    "import math\n",
    "\n",
    "class PuzzleProblem(Problem):\n",
    "    @property\n",
    "    def initial_state(self):\n",
    "        return (7,2,4,5,0,6,8,3,1)\n",
    "        \n",
    "    def available_actions(self, state):\n",
    "        return [\"Up\", \"Right\", \"Down\", \"Left\"]\n",
    "        \n",
    "    def do_action(self, state, action):\n",
    "        lstate = list(state)\n",
    "        pos = 0\n",
    "        ret = None\n",
    "        for i in range(0,9):\n",
    "            if state[i] == 0:\n",
    "                pos = i\n",
    "                break\n",
    "             \n",
    "        if action == \"Up\":\n",
    "            if pos > 2:\n",
    "                lstate[pos], lstate[pos - 3] = lstate[pos - 3], lstate[pos]\n",
    "            ret = tuple(lstate)\n",
    "            \n",
    "        elif action == \"Right\":\n",
    "            if pos != 8 and pos != 5 and pos != 2:\n",
    "                lstate[pos], lstate[pos + 1] = lstate[pos + 1], lstate[pos]\n",
    "            ret = tuple(lstate)\n",
    "            \n",
    "        elif action == \"Down\":\n",
    "            if pos < 6:\n",
    "                lstate[pos], lstate[pos + 3] = lstate[pos + 3], lstate[pos]\n",
    "            ret = tuple(lstate)\n",
    "            \n",
    "        elif action == \"Left\":\n",
    "            if pos != 0 and pos != 3 and pos != 6:\n",
    "                lstate[pos], lstate[pos - 1] = lstate[pos - 1], lstate[pos]\n",
    "            ret = tuple(lstate)\n",
    "            \n",
    "        return ret\n",
    "\n",
    "    def is_goal(self, state) -> bool:\n",
    "        if state == (0,1,2,3,4,5,6,7,8):\n",
    "            return True\n",
    "        return False\n",
    "        \n",
    "    def action_cost(self, state, action) -> float:\n",
    "        return 1\n",
    "        \n",
    "    def heuristic(self, state) -> float:\n",
    "        suma = 0\n",
    "        for i in range(1,9):\n",
    "            if state[i] != i:\n",
    "                suma += 1\n",
    "        return suma"
   ]
  },
  {
   "cell_type": "markdown",
   "metadata": {},
   "source": [
    "**Prove that this heuristic is admissible.**"
   ]
  },
  {
   "cell_type": "markdown",
   "metadata": {},
   "source": [
    "1)By moving the blank tile (tile with number 0), we change the position and position of one of the tiles.\n",
    "\n",
    "2)Every tile numbered from 1 to 8 which isn't at its goal position must be at least once moved.\n",
    "\n",
    "3)This heuristic approach count how many tiles (excluding blank tile) aren't at their positions and returns the sum - let's name it s.\n",
    "\n",
    "4)The number of swaps we have to do is >= s, therefore this approach is admissible."
   ]
  },
  {
   "cell_type": "code",
   "execution_count": 69,
   "metadata": {},
   "outputs": [],
   "source": [
    "class PuzzleProblem1(PuzzleProblem):\n",
    "    def heuristic(self, state) -> float:\n",
    "        suma = 0\n",
    "        for i in range(1,9):\n",
    "            pos = 0\n",
    "            while(i != state[pos]):\n",
    "                pos+=1\n",
    "            suma += abs(pos%3 - i%3) + abs(math.floor(i/3) - math.floor(pos/3))\n",
    "        return suma\n"
   ]
  },
  {
   "cell_type": "markdown",
   "metadata": {},
   "source": [
    "**Prove that this heuristic is admissible.**"
   ]
  },
  {
   "cell_type": "markdown",
   "metadata": {},
   "source": [
    "1)The function counts the sum of Manhattan distances of all the tiles (excluding blank tile) to their goal positions.\n",
    "\n",
    "2)Every move (going from one state to another) can change places only of one of the tiles with the blank tile.\n",
    "\n",
    "3)We need at least d moves to set the tile to its goal position if its distance equals d.\n",
    "\n",
    "4)Therefore this heuristic is admissible."
   ]
  },
  {
   "cell_type": "code",
   "execution_count": 70,
   "metadata": {},
   "outputs": [],
   "source": [
    "class PuzzleProblem2(PuzzleProblem):\n",
    "    def heuristic(self, state) -> float:\n",
    "        suma = 0\n",
    "        for i in range(1,9):\n",
    "            pos = 0\n",
    "            while(i != state[pos]):\n",
    "                pos+=1\n",
    "            suma += max(abs(pos%3 - i%3), abs(math.floor(i/3) - math.floor(pos/3)))\n",
    "        return suma"
   ]
  },
  {
   "cell_type": "markdown",
   "metadata": {},
   "source": [
    "**Prove that this heuristic is admissible.**"
   ]
  },
  {
   "cell_type": "markdown",
   "metadata": {},
   "source": [
    "1)The function for class PuzzleProblem2 returns the sum of distances of all tiles (excluding the blank one) from their goal positions according to Chebyshev distance measure.\n",
    "\n",
    "2)It always returns estimated cost which is less or equal those from PuzzleProblem1 ( max(a,b) <= a + b).\n",
    "\n",
    "3)Therefore if PuzzleProblem1 is admissible, then PuzzleProblem2 also is."
   ]
  },
  {
   "cell_type": "markdown",
   "metadata": {},
   "source": [
    "Run your heuristics on the given problem."
   ]
  },
  {
   "cell_type": "code",
   "execution_count": 71,
   "metadata": {},
   "outputs": [
    {
     "name": "stdout",
     "output_type": "stream",
     "text": [
      "92332\n",
      "17603\n",
      "47564\n",
      "Plan to be executed 26\n",
      "Plan to be executed 26\n",
      "Plan to be executed 26\n",
      "Is plan0==plan1? True\n",
      "Is plan0==plan2? True\n",
      "Is plan1==plan2? True\n"
     ]
    }
   ],
   "source": [
    "plan0 = astar(PuzzleProblem())\n",
    "plan1 = astar(PuzzleProblem1())\n",
    "plan2 = astar(PuzzleProblem2())\n",
    "\n",
    "print(\"Plan to be executed\", len(plan0))\n",
    "print(\"Plan to be executed\", len(plan1))\n",
    "print(\"Plan to be executed\", len(plan2))\n",
    "\n",
    "print(\"Is plan0==plan1?\", plan0 == plan1)\n",
    "print(\"Is plan0==plan2?\", plan0 == plan2)\n",
    "print(\"Is plan1==plan2?\", plan1 == plan2)"
   ]
  },
  {
   "cell_type": "markdown",
   "metadata": {},
   "source": [
    "**Which of the heuristics is the best for this task? Why is that?**"
   ]
  },
  {
   "cell_type": "markdown",
   "metadata": {},
   "source": [
    "The best is the PuzzleProblem1 heuristic. For this heuristic, the A-star algorithm visits the least number of states. It is because for this heuristic estimated costs are higher than in the other 2 heuristics (*), but still not overestimated. The high estimated cost of achieving the goal state helps us to eliminate those states which are further from meta, than others.\n",
    "\n",
    "* The cost of PuzzleProblem1 is >= cost od PuzzleProblem, because in PP1 we not only count the misplaced tiles but if their Manhattan distance from the goal position is> 1, then we add bigger numbers to the sum\n",
    "* The cost of PuzzleProblem1 is >= cost od PuzzleProblem2, because in PP1 the cost equals a+b (a - the vertical distance, b - the level distance) and in PP2 it equals max(a,b). a+b >= max(a,b)"
   ]
  },
  {
   "cell_type": "markdown",
   "metadata": {},
   "source": [
    "------------\n",
    "The pictures and the description of 8-puzzle are from \"Artificial Intelligence: A Modern Approach\" 3rd ed."
   ]
  },
  {
   "cell_type": "code",
   "execution_count": null,
   "metadata": {},
   "outputs": [],
   "source": []
  }
 ],
 "metadata": {
  "kernelspec": {
   "display_name": "Python 3",
   "language": "python",
   "name": "python3"
  },
  "language_info": {
   "codemirror_mode": {
    "name": "ipython",
    "version": 3
   },
   "file_extension": ".py",
   "mimetype": "text/x-python",
   "name": "python",
   "nbconvert_exporter": "python",
   "pygments_lexer": "ipython3",
   "version": "3.8.5"
  }
 },
 "nbformat": 4,
 "nbformat_minor": 4
}
